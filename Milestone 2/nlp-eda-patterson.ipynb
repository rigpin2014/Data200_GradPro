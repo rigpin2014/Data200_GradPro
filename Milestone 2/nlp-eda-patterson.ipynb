{
 "cells": [
  {
   "cell_type": "markdown",
   "id": "e2ecdfe2-d0a4-4458-9498-11370a5f155d",
   "metadata": {},
   "source": [
    "# EDA of Chatbot Arena Dataset \n",
    "\n",
    "The purpose of this notebook aims to explore the Chatbot Arena dataset, where two chatbots answer human questions, and users vote on the best response. The EDA of Chatbot Arena Dataset will cover:\n",
    "- Understanding the dataset structure and contents.\n",
    "- Exploring the distribution of questions, responses, and chatbots.\n",
    "- Identifying patterns in the data to guide future modeling tasks."
   ]
  },
  {
   "cell_type": "markdown",
   "id": "e682f63a-4115-4e2c-90ba-5c1f0eef35c3",
   "metadata": {},
   "source": [
    "## 1. Understanding the Dataset\n",
    "The source dataset comes from https://huggingface.co/datasets/lmsys/chatbot_arena_conversations. The author describes the dataset as follows:\n",
    "\n",
    "> This dataset contains 33K cleaned conversations with pairwise human preferences. It is collected from 13K unique IP addresses on the Chatbot Arena from April to June 2023. Each sample includes a question ID, two model names, their full conversation text in OpenAI API JSON format, the user vote, the anonymized user ID, the detected language tag, the OpenAI moderation API tag, the additional toxic tag, and the timestamp.\n",
    "\n",
    "### Main Dataset\n",
    "\n",
    "- **Conversation Data**\n",
    "You can find the processed dataset in `./chatbot-arena-conversations.jsonl.gz`. The dataset is in JSON line format and compressed using gzip. It has gone through the following preprocessing steps to make analysis easier:\n",
    "\n",
    "    - Removed non-English conversations.\n",
    "    - Removed conversations with more than one round.\n",
    "    - Removed conversations classified as toxic or harmful.\n",
    "\n",
    "The dataset you will be working with contains `25282` rows (out of `33000` total rows) and `7` columns. The columns are:\n",
    "\n",
    "- `question_id`: A unique identifier for the question.\n",
    "- `model_a`: The name of the first chatbot model.\n",
    "- `model_b`: The name of the second chatbot model.\n",
    "- `winner`: The name of the chatbot model that won the user vote.\n",
    "- `judge`: The anonymized user ID that voted.\n",
    "- `conversation_a`: The conversation between the user and `model_a`.\n",
    "- `conversation_b`: The conversation between the user and `model_b`.\n",
    "\n",
    "An example of the data is as follows:\n",
    "\n",
    "```json\n",
    "{\n",
    "  \"question_id\": \"c0fc42c6f5f14f2aa5a89f71f8553730\",\n",
    "  \"model_a\": \"vicuna-13b\",\n",
    "  \"model_b\": \"koala-13b\",\n",
    "  \"winner\": \"model_a\",\n",
    "  \"judge\": \"arena_user_973\",\n",
    "  \"conversation_a\": [\n",
    "    {\n",
    "      \"content\": \"Count from 1 to 10 with step = 3\",\n",
    "      \"role\": \"user\"\n",
    "    },\n",
    "    {\n",
    "      \"content\": \"1, 4, 7, 10\\n\\nCounting with a step of 3 means that you will increase the number by 3 each time. So, the first number is 1, the next is 4 (1 + 3), the next is 7 (4 + 3), and so on.\",\n",
    "      \"role\": \"assistant\"\n",
    "    }\n",
    "  ],\n",
    "  \"conversation_b\": [\n",
    "    {\n",
    "      \"content\": \"Count from 1 to 10 with step = 3\",\n",
    "      \"role\": \"user\"\n",
    "    },\n",
    "    {\n",
    "      \"content\": \"1, 4, 7, 10\",\n",
    "      \"role\": \"assistant\"\n",
    "    }\n",
    "  ]\n",
    "}\n",
    "```\n",
    "\n",
    "### Auxiliary Datasets\n",
    "\n",
    "There are four auxiliary datasets that you can use to help with your analysis:\n",
    "\n",
    "- **Embedding Data**\n",
    "    - `./chatbot-arena-prompts-embeddings.npy` contains the 256-dimensional text embeddings for each of the human questions. The embeddings are generated using OpenAI’s text-embedding model. We will explain what embeddings are and how you can use them later.\n",
    "    - `./chatbot-arena-model_a_response-embeddings.npy` contains the 256-dimensional text embeddings for each of the model a responses (second half of conversation a). The embeddings are generated using OpenAI’s text-embedding model. \n",
    "     - `./chatbot-arena-model_b_response-embeddings.npy` contains the 256-dimensional text embeddings for each of of the model b responses (second half of conversation b). The embeddings are generated using OpenAI’s text-embedding model.\n",
    "\n",
    "- **Topic Modeling and Hardness Score Data**\n",
    "- `./chatbot-arena-gpt3-scores.jsonl.gz` ([example row](https://gist.github.com/simon-mo/25c5d532bccc7f28b404cffdfe719e6e#file-example-aux-row-json))\n",
    " contains labels for the dataset, which you can use for later modeling tasks. It has the following fields:\n",
    "  - **question_id**: The unique identifier for the question, as seen in `./chatbot-arena-conversations.jsonl.gz`.\n",
    "  - **prompt**: The extracted human question. This is equivalent to the first message in `conversation_a` and `conversation_b` in `./chatbot-arena-conversations.jsonl.gz`.\n",
    "  - **openai_scores_raw_choices_nested**: The response from OpenAI GPT 3.5 model. It contains:\n",
    "    - The evaluated topic model\n",
    "    - The reason for a hardness score (from 1 to 10)\n",
    "    - The score value\n",
    "\n",
    "  For each prompt, we have 3 responses from GPT 3.5 because it is a probabilistic model. In the real world, multiple annotators may provide different labels for ground truth data. We extracted the following fields into columns:\n",
    "\n",
    "  - **topic_modeling_1, topic_modeling_2, topic_modeling_3**: Topic modeling for the first, second, and third response. Each topic contains two words.\n",
    "  - **score_reason_1, score_reason_2, score_reason_3**: The reasons for the hardness score for the first, second, and third response.\n",
    "  - **score_value_1, score_value_2, score_value_3**: The hardness score for the first, second, and third response.\n",
    " \n",
    "```json\n",
    "{\n",
    "  \"question_id\": \"58210e39b3fd4441a2bd4a518bb44c2d\",\n",
    "  \"prompt\": \"What is the difference between OpenCL and CUDA?\",\n",
    "  \"openai_scores_raw_choices_nested\": [\n",
    "    {\n",
    "      \"finish_reason\": \"stop\",\n",
    "      \"index\": 0,\n",
    "      \"logprobs\": null,\n",
    "      \"message\": {\n",
    "        \"content\": \"{\\n    \\\"topic_modeling\\\": \\\"Technical Comparison\\\",\\n    \\\"score_reason\\\": \\\"This prompt requires the AI to accurately compare and contrast two distinct technologies, OpenCL and CUDA. It assesses the AI's factual accuracy and knowledge of these technologies, as well as its ability to articulate the differences between them.\\\",\\n    \\\"score_value\\\": 9\\n}\",\n",
    "        \"role\": \"assistant\",\n",
    "        \"function_call\": null,\n",
    "        \"tool_calls\": null\n",
    "      }\n",
    "    },\n",
    "    {\n",
    "      \"finish_reason\": \"stop\",\n",
    "      \"index\": 1,\n",
    "      \"logprobs\": null,\n",
    "      \"message\": {\n",
    "        \"content\": \"{\\n    \\\"topic_modeling\\\": \\\"Software Comparison\\\",\\n    \\\"score_reason\\\": \\\"This prompt assesses the AI's factual accuracy in distinguishing between two similar but distinct software frameworks.\\\",\\n    \\\"score_value\\\": 8\\n}\",\n",
    "        \"role\": \"assistant\",\n",
    "        \"function_call\": null,\n",
    "        \"tool_calls\": null\n",
    "      }\n",
    "    },\n",
    "    {\n",
    "      \"finish_reason\": \"stop\",\n",
    "      \"index\": 2,\n",
    "      \"logprobs\": null,\n",
    "      \"message\": {\n",
    "        \"content\": \"{\\n    \\\"topic_modeling\\\": \\\"Comparison, Technology\\\",\\n    \\\"score_reason\\\": \\\"This prompt requires the AI to demonstrate knowledge of two different technologies, compare their features, and explain their distinctions. This task assesses the AI's factual accuracy and proficiency in understanding complex technological concepts.\\\",\\n    \\\"score_value\\\": 9\\n}\",\n",
    "        \"role\": \"assistant\",\n",
    "        \"function_call\": null,\n",
    "        \"tool_calls\": null\n",
    "      }\n",
    "    }\n",
    "  ],\n",
    "  \"topic_modeling_1\": \"Technical Comparison\",\n",
    "  \"score_reason_1\": \"This prompt requires the AI to accurately compare and contrast two distinct technologies, OpenCL and CUDA. It assesses the AI's factual accuracy and knowledge of these technologies, as well as its ability to articulate the differences between them.\",\n",
    "  \"score_value_1\": 9,\n",
    "  \"topic_modeling_2\": \"Software Comparison\",\n",
    "  \"score_reason_2\": \"This prompt assesses the AI's factual accuracy in distinguishing between two similar but distinct software frameworks.\",\n",
    "  \"score_value_2\": 8,\n",
    "  \"topic_modeling_3\": \"Comparison, Technology\",\n",
    "  \"score_reason_3\": \"This prompt requires the AI to demonstrate knowledge of two different technologies, compare their features, and explain their distinctions. This task assesses the AI's factual accuracy and proficiency in understanding complex technological concepts.\",\n",
    "  \"score_value_3\": 9\n",
    "}\n",
    "```"
   ]
  },
  {
   "cell_type": "markdown",
   "id": "125d5d37-3635-4412-bd0e-9f28874116ef",
   "metadata": {},
   "source": [
    "## 2. Loading the Data"
   ]
  },
  {
   "cell_type": "code",
   "execution_count": 1,
   "id": "6594a806-ebcc-4947-bf4b-938cdbba27dd",
   "metadata": {},
   "outputs": [],
   "source": [
    "import pandas as pd\n",
    "import numpy as np\n",
    "import matplotlib.pyplot as plt\n",
    "import seaborn as sns\n",
    "import gzip\n",
    "\n",
    "import warnings\n",
    "warnings.filterwarnings(\"ignore\", category=FutureWarning)\n",
    "\n",
    "sns.set_theme(style=\"whitegrid\")"
   ]
  },
  {
   "cell_type": "code",
   "execution_count": 2,
   "id": "356f370f-b361-453d-8aa3-85e1dc3555d6",
   "metadata": {},
   "outputs": [],
   "source": [
    "# Main Dataset\n",
    "\n",
    "# Conversation Data -- we will use this data in the \"Conversation Data\" section\n",
    "df = pd.read_json(\n",
    "    \"../training_data/chatbot-arena-conversations.jsonl.gz\",\n",
    "    lines=True,\n",
    "    compression=\"gzip\"\n",
    ")"
   ]
  },
  {
   "cell_type": "code",
   "execution_count": 3,
   "id": "789575c5-9d08-4f85-bf4b-1622b84e23a6",
   "metadata": {},
   "outputs": [],
   "source": [
    "# Auxiliary Datasets\n",
    "\n",
    "# Embedding Data -- we will use this data in the \"Embedding Data\" section\n",
    "prompt_embeddings = np.load(\n",
    "    \"../training_data/chatbot-arena-prompts-embeddings.npy\"\n",
    ")\n",
    "\n",
    "response_a_embeddings = np.load(\n",
    "    \"../training_data/chatbot-arena-model_a_response-embeddings.npy\"\n",
    ")\n",
    "\n",
    "response_b_embeddings = np.load(\n",
    "    \"../training_data/chatbot-arena-model_b_response-embeddings.npy\"\n",
    ")\n",
    "\n",
    "# Topic Modeling and Hardness Score Data -- we will use this data in the \"Topic Modeling and Hardness Score Data\" section\n",
    "topic_and_hardness = pd.read_json(\n",
    "    \"../training_data/chatbot-arena-gpt3-scores.jsonl.gz\",\n",
    "    lines=True,\n",
    "    compression=\"gzip\"\n",
    ")"
   ]
  },
  {
   "cell_type": "markdown",
   "id": "f79dea3a-89c9-458c-a36e-e322c4c5fe20",
   "metadata": {},
   "source": [
    "## 3. Exploring the Data"
   ]
  },
  {
   "cell_type": "markdown",
   "id": "8786dd59-23e1-44b6-82ce-b5aaf4efbba4",
   "metadata": {},
   "source": [
    "### Main Data Set - Converstation Data\n",
    "\n",
    "Let's investigate the conversation data first (`chatbot-arena-conversations.jsonl.gz`)."
   ]
  },
  {
   "cell_type": "code",
   "execution_count": 4,
   "id": "58559afc",
   "metadata": {},
   "outputs": [
    {
     "data": {
      "text/plain": [
       "(25282, 7)"
      ]
     },
     "execution_count": 4,
     "metadata": {},
     "output_type": "execute_result"
    }
   ],
   "source": [
    "# Check the shape of the data.\n",
    "df.shape"
   ]
  },
  {
   "cell_type": "code",
   "execution_count": 5,
   "id": "8bc222ff",
   "metadata": {},
   "outputs": [
    {
     "data": {
      "text/html": [
       "<div>\n",
       "<style scoped>\n",
       "    .dataframe tbody tr th:only-of-type {\n",
       "        vertical-align: middle;\n",
       "    }\n",
       "\n",
       "    .dataframe tbody tr th {\n",
       "        vertical-align: top;\n",
       "    }\n",
       "\n",
       "    .dataframe thead th {\n",
       "        text-align: right;\n",
       "    }\n",
       "</style>\n",
       "<table border=\"1\" class=\"dataframe\">\n",
       "  <thead>\n",
       "    <tr style=\"text-align: right;\">\n",
       "      <th></th>\n",
       "      <th>question_id</th>\n",
       "      <th>model_a</th>\n",
       "      <th>model_b</th>\n",
       "      <th>winner</th>\n",
       "      <th>judge</th>\n",
       "      <th>conversation_a</th>\n",
       "      <th>conversation_b</th>\n",
       "    </tr>\n",
       "  </thead>\n",
       "  <tbody>\n",
       "    <tr>\n",
       "      <th>0</th>\n",
       "      <td>58210e39b3fd4441a2bd4a518bb44c2d</td>\n",
       "      <td>chatglm-6b</td>\n",
       "      <td>koala-13b</td>\n",
       "      <td>model_b</td>\n",
       "      <td>arena_user_973</td>\n",
       "      <td>[{'content': 'What is the difference between O...</td>\n",
       "      <td>[{'content': 'What is the difference between O...</td>\n",
       "    </tr>\n",
       "    <tr>\n",
       "      <th>1</th>\n",
       "      <td>2564acd09e3942fd97657d05282d4389</td>\n",
       "      <td>oasst-pythia-12b</td>\n",
       "      <td>alpaca-13b</td>\n",
       "      <td>tie</td>\n",
       "      <td>arena_user_973</td>\n",
       "      <td>[{'content': 'Why did my parent not invite me ...</td>\n",
       "      <td>[{'content': 'Why did my parent not invite me ...</td>\n",
       "    </tr>\n",
       "    <tr>\n",
       "      <th>2</th>\n",
       "      <td>90bfd142157948aba01931726c888e7f</td>\n",
       "      <td>koala-13b</td>\n",
       "      <td>oasst-pythia-12b</td>\n",
       "      <td>model_b</td>\n",
       "      <td>arena_user_973</td>\n",
       "      <td>[{'content': 'Fuji vs. Nikon, which is better?...</td>\n",
       "      <td>[{'content': 'Fuji vs. Nikon, which is better?...</td>\n",
       "    </tr>\n",
       "    <tr>\n",
       "      <th>3</th>\n",
       "      <td>a7c5accc53e649a3bc6b2e41d962ebc4</td>\n",
       "      <td>vicuna-13b</td>\n",
       "      <td>oasst-pythia-12b</td>\n",
       "      <td>model_b</td>\n",
       "      <td>arena_user_973</td>\n",
       "      <td>[{'content': 'How to build an arena for chatbo...</td>\n",
       "      <td>[{'content': 'How to build an arena for chatbo...</td>\n",
       "    </tr>\n",
       "    <tr>\n",
       "      <th>4</th>\n",
       "      <td>adf27e819a3c494cb6e993f0c660e097</td>\n",
       "      <td>vicuna-13b</td>\n",
       "      <td>koala-13b</td>\n",
       "      <td>model_a</td>\n",
       "      <td>arena_user_973</td>\n",
       "      <td>[{'content': 'When is it today?', 'role': 'use...</td>\n",
       "      <td>[{'content': 'When is it today?', 'role': 'use...</td>\n",
       "    </tr>\n",
       "  </tbody>\n",
       "</table>\n",
       "</div>"
      ],
      "text/plain": [
       "                        question_id           model_a           model_b  \\\n",
       "0  58210e39b3fd4441a2bd4a518bb44c2d        chatglm-6b         koala-13b   \n",
       "1  2564acd09e3942fd97657d05282d4389  oasst-pythia-12b        alpaca-13b   \n",
       "2  90bfd142157948aba01931726c888e7f         koala-13b  oasst-pythia-12b   \n",
       "3  a7c5accc53e649a3bc6b2e41d962ebc4        vicuna-13b  oasst-pythia-12b   \n",
       "4  adf27e819a3c494cb6e993f0c660e097        vicuna-13b         koala-13b   \n",
       "\n",
       "    winner           judge                                     conversation_a  \\\n",
       "0  model_b  arena_user_973  [{'content': 'What is the difference between O...   \n",
       "1      tie  arena_user_973  [{'content': 'Why did my parent not invite me ...   \n",
       "2  model_b  arena_user_973  [{'content': 'Fuji vs. Nikon, which is better?...   \n",
       "3  model_b  arena_user_973  [{'content': 'How to build an arena for chatbo...   \n",
       "4  model_a  arena_user_973  [{'content': 'When is it today?', 'role': 'use...   \n",
       "\n",
       "                                      conversation_b  \n",
       "0  [{'content': 'What is the difference between O...  \n",
       "1  [{'content': 'Why did my parent not invite me ...  \n",
       "2  [{'content': 'Fuji vs. Nikon, which is better?...  \n",
       "3  [{'content': 'How to build an arena for chatbo...  \n",
       "4  [{'content': 'When is it today?', 'role': 'use...  "
      ]
     },
     "execution_count": 5,
     "metadata": {},
     "output_type": "execute_result"
    }
   ],
   "source": [
    "# View the data.\n",
    "df.head()"
   ]
  },
  {
   "cell_type": "code",
   "execution_count": 6,
   "id": "0bfcd55c-8332-4622-9336-129aa22215f8",
   "metadata": {},
   "outputs": [
    {
     "name": "stdout",
     "output_type": "stream",
     "text": [
      "<class 'pandas.core.frame.DataFrame'>\n",
      "RangeIndex: 25282 entries, 0 to 25281\n",
      "Data columns (total 7 columns):\n",
      " #   Column          Non-Null Count  Dtype \n",
      "---  ------          --------------  ----- \n",
      " 0   question_id     25282 non-null  object\n",
      " 1   model_a         25282 non-null  object\n",
      " 2   model_b         25282 non-null  object\n",
      " 3   winner          25282 non-null  object\n",
      " 4   judge           25282 non-null  object\n",
      " 5   conversation_a  25282 non-null  object\n",
      " 6   conversation_b  25282 non-null  object\n",
      "dtypes: object(7)\n",
      "memory usage: 1.4+ MB\n"
     ]
    }
   ],
   "source": [
    "df.info()"
   ]
  },
  {
   "cell_type": "code",
   "execution_count": 7,
   "id": "6ff52110-9e14-43a3-aa80-716240937942",
   "metadata": {},
   "outputs": [
    {
     "data": {
      "text/plain": [
       "question_id       0\n",
       "model_a           0\n",
       "model_b           0\n",
       "winner            0\n",
       "judge             0\n",
       "conversation_a    0\n",
       "conversation_b    0\n",
       "dtype: int64"
      ]
     },
     "execution_count": 7,
     "metadata": {},
     "output_type": "execute_result"
    }
   ],
   "source": [
    "df.isnull().sum()"
   ]
  },
  {
   "cell_type": "markdown",
   "id": "131aa1f9",
   "metadata": {},
   "source": [
    "From paragraph one above, we understand the structure of each column in the dataset. Let us create new columns: prompt, and prompt_length and perform analysis on these variables."
   ]
  },
  {
   "cell_type": "code",
   "execution_count": 8,
   "id": "6cb57f56",
   "metadata": {},
   "outputs": [
    {
     "data": {
      "text/plain": [
       "[{'content': 'What is the difference between OpenCL and CUDA?',\n",
       "  'role': 'user'},\n",
       " {'content': 'OpenCL and CUDA are two different programming models that are used for parallel computing.OpenCL is a general-purpose并行编程接口 that allows developers to write parallel code that can run on any platform that supportsCL, which includes most modern operating systems and computer systems, including Windows, Linux, and macOS. It provides a lower-level, more flexible API that is more suitable for building large-scale distributed computing systems.CUDA is a specific implementation ofOpenCL that is designed for performance and scalability in devices with multiple GPU(s). It was developed by Nvidia and is widely used for scientific computing, machine learning, and图形图像处理. The CUDA API provides a high-level, more efficient way to write parallel code that can run on top of a GPU, while still maintaining the ability to write code that can be easily adapted for other parallel computing platforms.',\n",
       "  'role': 'assistant'}]"
      ]
     },
     "execution_count": 8,
     "metadata": {},
     "output_type": "execute_result"
    }
   ],
   "source": [
    "df[\"conversation_a\"].iloc[0]"
   ]
  },
  {
   "cell_type": "code",
   "execution_count": 9,
   "id": "6255cef7",
   "metadata": {},
   "outputs": [],
   "source": [
    "df[\"prompt\"] = df[\"conversation_a\"].str[0].str[\"content\"]\n",
    "df[\"prompt_length\"] = df[\"prompt\"].str.len()"
   ]
  },
  {
   "cell_type": "code",
   "execution_count": 10,
   "id": "a03f955b",
   "metadata": {},
   "outputs": [
    {
     "data": {
      "text/plain": [
       "count    25282.00000\n",
       "mean       196.74646\n",
       "std        369.05595\n",
       "min         16.00000\n",
       "25%         42.00000\n",
       "50%         72.00000\n",
       "75%        156.00000\n",
       "max       2560.00000\n",
       "Name: prompt_length, dtype: float64"
      ]
     },
     "execution_count": 10,
     "metadata": {},
     "output_type": "execute_result"
    }
   ],
   "source": [
    "# View statistics for the prompt length\n",
    "df[\"prompt_length\"].describe()"
   ]
  },
  {
   "cell_type": "markdown",
   "id": "e816e770",
   "metadata": {},
   "source": [
    "Since the median is less than the mean prompt length, this distribution is right skewed. Let's visualize this."
   ]
  },
  {
   "cell_type": "code",
   "execution_count": 11,
   "id": "34e0ec86",
   "metadata": {},
   "outputs": [
    {
     "data": {
      "image/png": "[encoded data removed]",
      "text/plain": [
       "<Figure size 600x400 with 1 Axes>"
      ]
     },
     "metadata": {},
     "output_type": "display_data"
    }
   ],
   "source": [
    "# Plot the distribution of the length of the prompt\n",
    "plt.figure(figsize=(6, 4))\n",
    "sns.histplot(df[\"prompt_length\"], kde=True)\n",
    "plt.title(\"Distribution of Prompt Length\")\n",
    "plt.show();"
   ]
  },
  {
   "cell_type": "markdown",
   "id": "bb681101",
   "metadata": {},
   "source": [
    "Let's apply this same process to the reponse length for models a and b."
   ]
  },
  {
   "cell_type": "code",
   "execution_count": 12,
   "id": "9aba8fd7",
   "metadata": {},
   "outputs": [
    {
     "data": {
      "text/plain": [
       "count    25282.000000\n",
       "mean       772.708409\n",
       "std        655.798032\n",
       "min          1.000000\n",
       "25%        232.000000\n",
       "50%        591.000000\n",
       "75%       1215.750000\n",
       "max       9857.000000\n",
       "Name: response_length_a, dtype: float64"
      ]
     },
     "execution_count": 12,
     "metadata": {},
     "output_type": "execute_result"
    }
   ],
   "source": [
    "df[\"response_a\"] = df[\"conversation_a\"].str[1].str[\"content\"]\n",
    "df[\"response_length_a\"] = df[\"response_a\"].str.len()\n",
    "# View the statistics of the response length\n",
    "df[\"response_length_a\"].describe()\n"
   ]
  },
  {
   "cell_type": "code",
   "execution_count": 13,
   "id": "6c527a29",
   "metadata": {},
   "outputs": [
    {
     "data": {
      "image/png": "[encoded data removed]",
      "text/plain": [
       "<Figure size 600x400 with 1 Axes>"
      ]
     },
     "metadata": {},
     "output_type": "display_data"
    }
   ],
   "source": [
    "# Plot the distribution of the length of the response of model a.\n",
    "plt.figure(figsize=(6, 4))\n",
    "sns.histplot(df[\"response_length_a\"], kde=True)\n",
    "plt.title(\"Distribution of Response Length of Model A\")\n",
    "plt.show();"
   ]
  },
  {
   "cell_type": "code",
   "execution_count": 14,
   "id": "6ae724d7",
   "metadata": {},
   "outputs": [
    {
     "data": {
      "text/plain": [
       "count    25282.000000\n",
       "mean       773.163911\n",
       "std        658.803491\n",
       "min          1.000000\n",
       "25%        232.000000\n",
       "50%        582.000000\n",
       "75%       1214.750000\n",
       "max       7135.000000\n",
       "Name: response_length_b, dtype: float64"
      ]
     },
     "execution_count": 14,
     "metadata": {},
     "output_type": "execute_result"
    }
   ],
   "source": [
    "df[\"response_b\"] = df[\"conversation_b\"].str[1].str[\"content\"]\n",
    "df[\"response_length_b\"] = df[\"response_b\"].str.len()\n",
    "# View the statistics of the response length\n",
    "df[\"response_length_b\"].describe()"
   ]
  },
  {
   "cell_type": "code",
   "execution_count": 15,
   "id": "e99d4553",
   "metadata": {},
   "outputs": [
    {
     "data": {
      "image/png": "[encoded data removed]",
      "text/plain": [
       "<Figure size 600x400 with 1 Axes>"
      ]
     },
     "metadata": {},
     "output_type": "display_data"
    }
   ],
   "source": [
    "# Plot the distribution of the length of the response of model b.\n",
    "plt.figure(figsize=(6, 4))\n",
    "sns.histplot(df[\"response_length_b\"], kde=True)\n",
    "plt.title(\"Distribution of Response Length of Model B\")\n",
    "plt.show();"
   ]
  },
  {
   "cell_type": "markdown",
   "id": "21baa229",
   "metadata": {},
   "source": [
    "Given that our auxilliary data set contains embedding from only the second half of the data from the main data set, let's view the distribution for that specific data."
   ]
  },
  {
   "cell_type": "code",
   "execution_count": 16,
   "id": "b2732fd7",
   "metadata": {},
   "outputs": [
    {
     "data": {
      "text/plain": [
       "count    12641.000000\n",
       "mean       807.142710\n",
       "std        643.105958\n",
       "min          1.000000\n",
       "25%        261.000000\n",
       "50%        655.000000\n",
       "75%       1269.000000\n",
       "max       5857.000000\n",
       "Name: model_a_response_length, dtype: float64"
      ]
     },
     "execution_count": 16,
     "metadata": {},
     "output_type": "execute_result"
    }
   ],
   "source": [
    "df[\"model_a_response\"] = df[\"conversation_a\"].str[1].str[\"content\"].iloc[len(df)//2:]\n",
    "df[\"model_a_response_length\"] = df[\"model_a_response\"].str.len()\n",
    "# View the statistics of the response length\n",
    "df[\"model_a_response_length\"].describe()"
   ]
  },
  {
   "cell_type": "code",
   "execution_count": 17,
   "id": "bf0370af",
   "metadata": {},
   "outputs": [
    {
     "data": {
      "image/png": "[encoded data removed]",
      "text/plain": [
       "<Figure size 600x400 with 1 Axes>"
      ]
     },
     "metadata": {},
     "output_type": "display_data"
    }
   ],
   "source": [
    "# Plot the distribution of the length of the response of model a..\n",
    "plt.figure(figsize=(6, 4))\n",
    "sns.histplot(df[\"model_a_response_length\"], kde=True)\n",
    "plt.title(\"Distribution of Response Length of Model A (2nd Half of Data)\")\n",
    "plt.show();"
   ]
  },
  {
   "cell_type": "code",
   "execution_count": 18,
   "id": "2f539610",
   "metadata": {},
   "outputs": [
    {
     "data": {
      "text/plain": [
       "count    12641.000000\n",
       "mean       810.890119\n",
       "std        659.900188\n",
       "min          1.000000\n",
       "25%        261.000000\n",
       "50%        634.000000\n",
       "75%       1279.000000\n",
       "max       7135.000000\n",
       "Name: model_b_response_length, dtype: float64"
      ]
     },
     "execution_count": 18,
     "metadata": {},
     "output_type": "execute_result"
    }
   ],
   "source": [
    "df[\"model_b_response\"] = df[\"conversation_b\"].str[1].str[\"content\"].iloc[len(df)//2:]\n",
    "df[\"model_b_response_length\"] = df[\"model_b_response\"].str.len()\n",
    "# View the statistics of the response length\n",
    "df[\"model_b_response_length\"].describe()"
   ]
  },
  {
   "cell_type": "code",
   "execution_count": 19,
   "id": "a54d28b8",
   "metadata": {},
   "outputs": [
    {
     "data": {
      "image/png": "[encoded data removed]",
      "text/plain": [
       "<Figure size 600x400 with 1 Axes>"
      ]
     },
     "metadata": {},
     "output_type": "display_data"
    }
   ],
   "source": [
    "# Plot the distribution of the length of the response of model a..\n",
    "plt.figure(figsize=(6, 4))\n",
    "sns.histplot(df[\"model_b_response_length\"], kde=True)\n",
    "plt.title(\"Distribution of Response Length of Model A (2nd Half of Data)\")\n",
    "plt.show();"
   ]
  },
  {
   "cell_type": "markdown",
   "id": "fb5fcb07",
   "metadata": {},
   "source": [
    "Now lets look at the distribution of the questions. We know from the shape of the data that there are 25282 rows in the data set."
   ]
  },
  {
   "cell_type": "code",
   "execution_count": 20,
   "id": "abd44149",
   "metadata": {},
   "outputs": [
    {
     "data": {
      "text/plain": [
       "25272"
      ]
     },
     "execution_count": 20,
     "metadata": {},
     "output_type": "execute_result"
    }
   ],
   "source": [
    "# Determine the number of unique questions\n",
    "df[\"question_id\"].nunique()"
   ]
  },
  {
   "cell_type": "code",
   "execution_count": 21,
   "id": "7a709668",
   "metadata": {},
   "outputs": [
    {
     "data": {
      "text/html": [
       "<div>\n",
       "<style scoped>\n",
       "    .dataframe tbody tr th:only-of-type {\n",
       "        vertical-align: middle;\n",
       "    }\n",
       "\n",
       "    .dataframe tbody tr th {\n",
       "        vertical-align: top;\n",
       "    }\n",
       "\n",
       "    .dataframe thead th {\n",
       "        text-align: right;\n",
       "    }\n",
       "</style>\n",
       "<table border=\"1\" class=\"dataframe\">\n",
       "  <thead>\n",
       "    <tr style=\"text-align: right;\">\n",
       "      <th></th>\n",
       "      <th>question_id</th>\n",
       "      <th>model_a</th>\n",
       "      <th>model_b</th>\n",
       "      <th>winner</th>\n",
       "      <th>judge</th>\n",
       "      <th>conversation_a</th>\n",
       "      <th>conversation_b</th>\n",
       "      <th>prompt</th>\n",
       "      <th>prompt_length</th>\n",
       "      <th>response_a</th>\n",
       "      <th>response_length_a</th>\n",
       "      <th>response_b</th>\n",
       "      <th>response_length_b</th>\n",
       "      <th>model_a_response</th>\n",
       "      <th>model_a_response_length</th>\n",
       "      <th>model_b_response</th>\n",
       "      <th>model_b_response_length</th>\n",
       "    </tr>\n",
       "  </thead>\n",
       "  <tbody>\n",
       "    <tr>\n",
       "      <th>1576</th>\n",
       "      <td>20cb94a0b7c147fe8fc6250b2a20fd1c</td>\n",
       "      <td>oasst-pythia-12b</td>\n",
       "      <td>llama-13b</td>\n",
       "      <td>tie</td>\n",
       "      <td>arena_user_2628</td>\n",
       "      <td>[{'content': 'Write a song for my favourite si...</td>\n",
       "      <td>[{'content': 'Write a song for my favourite si...</td>\n",
       "      <td>Write a song for my favourite singer: Zhou She...</td>\n",
       "      <td>143</td>\n",
       "      <td>Here's a song for Zhou Shen, \"From the Hill to...</td>\n",
       "      <td>644</td>\n",
       "      <td>All the lyrics are written in the song.</td>\n",
       "      <td>39</td>\n",
       "      <td>NaN</td>\n",
       "      <td>NaN</td>\n",
       "      <td>NaN</td>\n",
       "      <td>NaN</td>\n",
       "    </tr>\n",
       "    <tr>\n",
       "      <th>1577</th>\n",
       "      <td>20cb94a0b7c147fe8fc6250b2a20fd1c</td>\n",
       "      <td>oasst-pythia-12b</td>\n",
       "      <td>llama-13b</td>\n",
       "      <td>model_a</td>\n",
       "      <td>arena_user_2628</td>\n",
       "      <td>[{'content': 'Write a song for my favourite si...</td>\n",
       "      <td>[{'content': 'Write a song for my favourite si...</td>\n",
       "      <td>Write a song for my favourite singer: Zhou She...</td>\n",
       "      <td>143</td>\n",
       "      <td>Here's a song for Zhou Shen, \"From the Hill to...</td>\n",
       "      <td>644</td>\n",
       "      <td>All the lyrics are written in the song.</td>\n",
       "      <td>39</td>\n",
       "      <td>NaN</td>\n",
       "      <td>NaN</td>\n",
       "      <td>NaN</td>\n",
       "      <td>NaN</td>\n",
       "    </tr>\n",
       "  </tbody>\n",
       "</table>\n",
       "</div>"
      ],
      "text/plain": [
       "                           question_id           model_a    model_b   winner  \\\n",
       "1576  20cb94a0b7c147fe8fc6250b2a20fd1c  oasst-pythia-12b  llama-13b      tie   \n",
       "1577  20cb94a0b7c147fe8fc6250b2a20fd1c  oasst-pythia-12b  llama-13b  model_a   \n",
       "\n",
       "                judge                                     conversation_a  \\\n",
       "1576  arena_user_2628  [{'content': 'Write a song for my favourite si...   \n",
       "1577  arena_user_2628  [{'content': 'Write a song for my favourite si...   \n",
       "\n",
       "                                         conversation_b  \\\n",
       "1576  [{'content': 'Write a song for my favourite si...   \n",
       "1577  [{'content': 'Write a song for my favourite si...   \n",
       "\n",
       "                                                 prompt  prompt_length  \\\n",
       "1576  Write a song for my favourite singer: Zhou She...            143   \n",
       "1577  Write a song for my favourite singer: Zhou She...            143   \n",
       "\n",
       "                                             response_a  response_length_a  \\\n",
       "1576  Here's a song for Zhou Shen, \"From the Hill to...                644   \n",
       "1577  Here's a song for Zhou Shen, \"From the Hill to...                644   \n",
       "\n",
       "                                   response_b  response_length_b  \\\n",
       "1576  All the lyrics are written in the song.                 39   \n",
       "1577  All the lyrics are written in the song.                 39   \n",
       "\n",
       "     model_a_response  model_a_response_length model_b_response  \\\n",
       "1576              NaN                      NaN              NaN   \n",
       "1577              NaN                      NaN              NaN   \n",
       "\n",
       "      model_b_response_length  \n",
       "1576                      NaN  \n",
       "1577                      NaN  "
      ]
     },
     "execution_count": 21,
     "metadata": {},
     "output_type": "execute_result"
    }
   ],
   "source": [
    "# Check for duplicate entris in the df\n",
    "df[df[\"question_id\"].duplicated(keep = False)].head(2)"
   ]
  },
  {
   "cell_type": "code",
   "execution_count": 22,
   "id": "2b3df947",
   "metadata": {},
   "outputs": [
    {
     "data": {
      "text/plain": [
       "array(['model_b', 'tie', 'model_a', 'tie (bothbad)'], dtype=object)"
      ]
     },
     "execution_count": 22,
     "metadata": {},
     "output_type": "execute_result"
    }
   ],
   "source": [
    "df[\"winner\"].unique()"
   ]
  },
  {
   "cell_type": "code",
   "execution_count": 23,
   "id": "c1572a1c",
   "metadata": {},
   "outputs": [
    {
     "data": {
      "text/plain": [
       "winner\n",
       "model_a          9002\n",
       "model_b          8862\n",
       "tie (bothbad)    4632\n",
       "tie              2786\n",
       "Name: count, dtype: int64"
      ]
     },
     "execution_count": 23,
     "metadata": {},
     "output_type": "execute_result"
    }
   ],
   "source": [
    "df[\"winner\"].value_counts()"
   ]
  },
  {
   "cell_type": "code",
   "execution_count": 24,
   "id": "a8fbb098",
   "metadata": {},
   "outputs": [
    {
     "name": "stdout",
     "output_type": "stream",
     "text": [
      "['chatglm-6b' 'oasst-pythia-12b' 'koala-13b' 'vicuna-13b'\n",
      " 'stablelm-tuned-alpha-7b' 'alpaca-13b' 'llama-13b' 'dolly-v2-12b'\n",
      " 'fastchat-t5-3b' 'gpt-3.5-turbo' 'gpt-4' 'claude-v1' 'RWKV-4-Raven-14B'\n",
      " 'mpt-7b-chat' 'palm-2' 'claude-instant-v1' 'vicuna-7b' 'wizardlm-13b'\n",
      " 'gpt4all-13b-snoozy' 'guanaco-33b']\n"
     ]
    }
   ],
   "source": [
    "# Check if model a and model b contains the same models\n",
    "if set(df[\"model_a\"].unique()) == set(df[\"model_b\"].unique()):\n",
    "    print(df[\"model_a\"].unique())"
   ]
  },
  {
   "cell_type": "code",
   "execution_count": 25,
   "id": "51037799",
   "metadata": {},
   "outputs": [
    {
     "data": {
      "text/plain": [
       "20"
      ]
     },
     "execution_count": 25,
     "metadata": {},
     "output_type": "execute_result"
    }
   ],
   "source": [
    "len(df[\"model_a\"].unique())"
   ]
  },
  {
   "cell_type": "markdown",
   "id": "7936c5af",
   "metadata": {},
   "source": [
    "Let's visualize some data for the top five highest performing models."
   ]
  },
  {
   "cell_type": "code",
   "execution_count": 26,
   "id": "2f914545",
   "metadata": {},
   "outputs": [
    {
     "data": {
      "text/html": [
       "<div>\n",
       "<style scoped>\n",
       "    .dataframe tbody tr th:only-of-type {\n",
       "        vertical-align: middle;\n",
       "    }\n",
       "\n",
       "    .dataframe tbody tr th {\n",
       "        vertical-align: top;\n",
       "    }\n",
       "\n",
       "    .dataframe thead th {\n",
       "        text-align: right;\n",
       "    }\n",
       "</style>\n",
       "<table border=\"1\" class=\"dataframe\">\n",
       "  <thead>\n",
       "    <tr style=\"text-align: right;\">\n",
       "      <th></th>\n",
       "      <th>winning_model</th>\n",
       "      <th>win_count</th>\n",
       "    </tr>\n",
       "  </thead>\n",
       "  <tbody>\n",
       "    <tr>\n",
       "      <th>8</th>\n",
       "      <td>gpt-4</td>\n",
       "      <td>2218</td>\n",
       "    </tr>\n",
       "    <tr>\n",
       "      <th>17</th>\n",
       "      <td>vicuna-13b</td>\n",
       "      <td>1974</td>\n",
       "    </tr>\n",
       "    <tr>\n",
       "      <th>7</th>\n",
       "      <td>gpt-3.5-turbo</td>\n",
       "      <td>1922</td>\n",
       "    </tr>\n",
       "    <tr>\n",
       "      <th>4</th>\n",
       "      <td>claude-v1</td>\n",
       "      <td>1865</td>\n",
       "    </tr>\n",
       "    <tr>\n",
       "      <th>11</th>\n",
       "      <td>koala-13b</td>\n",
       "      <td>1487</td>\n",
       "    </tr>\n",
       "  </tbody>\n",
       "</table>\n",
       "</div>"
      ],
      "text/plain": [
       "    winning_model  win_count\n",
       "8           gpt-4       2218\n",
       "17     vicuna-13b       1974\n",
       "7   gpt-3.5-turbo       1922\n",
       "4       claude-v1       1865\n",
       "11      koala-13b       1487"
      ]
     },
     "execution_count": 26,
     "metadata": {},
     "output_type": "execute_result"
    }
   ],
   "source": [
    "# Create a new dataframe only which contains winning models\n",
    "win_filt = df[df[\"winner\"].isin([\"model_a\", \"model_b\"])].copy()\n",
    "\n",
    "# Create a new column with the name of the winning model\n",
    "win_filt[\"winning_model\"] = win_filt.apply(lambda x: x[\"model_a\"] if x[\"winner\"] == \"model_a\" else x[\"model_b\"], axis = 1)\n",
    "\n",
    "# Determine the top five highest performing models based on win counts\n",
    "top_models = win_filt.groupby([\"winning_model\"]).size().reset_index(name = \"win_count\")\n",
    "top_models = top_models.sort_values(by = \"win_count\", ascending = False).head()\n",
    "top_models"
   ]
  },
  {
   "cell_type": "code",
   "execution_count": 27,
   "id": "9c77f2c0",
   "metadata": {},
   "outputs": [],
   "source": [
    "# Create a column with the winning response length.\n",
    "win_filt[\"winning_response\"] = np.where(win_filt[\"winner\"] == \"model_a\", win_filt[\"response_length_a\"], win_filt[\"response_length_b\"])"
   ]
  },
  {
   "cell_type": "code",
   "execution_count": 28,
   "id": "20b0f048",
   "metadata": {},
   "outputs": [
    {
     "data": {
      "image/png": "[encoded data removed]",
      "text/plain": [
       "<Figure size 600x400 with 1 Axes>"
      ]
     },
     "metadata": {},
     "output_type": "display_data"
    }
   ],
   "source": [
    "# Obtain the top five winning models.\n",
    "top_five = list(top_models[\"winning_model\"])\n",
    "\n",
    "# Filter the top models to only include the top five models\n",
    "df_top_five = win_filt[win_filt[\"winning_model\"].isin(top_five)]\n",
    "\n",
    "# Plot the distribution of the top five models\n",
    "plt.figure(figsize=(6, 4))\n",
    "sns.histplot(data = df_top_five, x = \"winning_response\", hue = \"winning_model\", kde = True)\n",
    "plt.title(\"Distribution of Top Five Winning Models\")\n",
    "plt.xlabel(\"Winning Response Length\")\n",
    "plt.show();"
   ]
  },
  {
   "cell_type": "code",
   "execution_count": 29,
   "id": "021872cb",
   "metadata": {},
   "outputs": [
    {
     "data": {
      "text/plain": [
       "count    17864.000000\n",
       "mean       929.744402\n",
       "std        706.046803\n",
       "min          1.000000\n",
       "25%        333.000000\n",
       "50%        823.000000\n",
       "75%       1412.000000\n",
       "max       7135.000000\n",
       "Name: winning_response, dtype: float64"
      ]
     },
     "execution_count": 29,
     "metadata": {},
     "output_type": "execute_result"
    }
   ],
   "source": [
    "win_filt[\"winning_response\"].describe()"
   ]
  },
  {
   "cell_type": "code",
   "execution_count": 30,
   "id": "bd47779a",
   "metadata": {},
   "outputs": [
    {
     "data": {
      "text/plain": [
       "['gpt-4', 'vicuna-13b', 'gpt-3.5-turbo', 'claude-v1', 'koala-13b']"
      ]
     },
     "execution_count": 30,
     "metadata": {},
     "output_type": "execute_result"
    }
   ],
   "source": [
    "top_five"
   ]
  },
  {
   "cell_type": "code",
   "execution_count": 31,
   "id": "2f3fe883",
   "metadata": {},
   "outputs": [
    {
     "data": {
      "image/png": "[encoded data removed]",
      "text/plain": [
       "<Figure size 600x400 with 1 Axes>"
      ]
     },
     "metadata": {},
     "output_type": "display_data"
    }
   ],
   "source": [
    "# Obtain information about the best performing model\n",
    "best_model = win_filt[win_filt[\"winning_model\"] == 'gpt-4']\n",
    "\n",
    "# Plot the distribution of the length of the response of model a..\n",
    "plt.figure(figsize=(6, 4))\n",
    "sns.histplot(best_model[\"winning_response\"], kde=True)\n",
    "plt.title(\"Distribution of Response Length of the Best Model\")\n",
    "plt.show();"
   ]
  },
  {
   "cell_type": "code",
   "execution_count": 32,
   "id": "ecdbcb6e",
   "metadata": {},
   "outputs": [
    {
     "data": {
      "text/plain": [
       "count    2218.000000\n",
       "mean     1099.282236\n",
       "std       963.181024\n",
       "min         1.000000\n",
       "25%       297.000000\n",
       "50%       815.500000\n",
       "75%      1721.750000\n",
       "max      5857.000000\n",
       "Name: winning_response, dtype: float64"
      ]
     },
     "execution_count": 32,
     "metadata": {},
     "output_type": "execute_result"
    }
   ],
   "source": [
    "best_model[\"winning_response\"].describe()"
   ]
  },
  {
   "cell_type": "markdown",
   "id": "93e88741",
   "metadata": {},
   "source": [
    "### Observations from the Main Data Set\n",
    "\n",
    " - Do the arena users ask long or short questions? What is the average length of prompts users give to the chatbots?\n",
    "\n",
    " Based on the right skewed distribution of prompt length, arena users tend to ask questions with total prompt lengths of less than 500 words. The average arena user will prompt a model with a question which is around 200 words.\n",
    "\n",
    " - Describe the length of the response for models in general. In general, what is the average response length for a model?\n",
    "\n",
    " The distributions for the response length of model a and model b represent the general case of model response. Based on these distributions a model will generally respond in less than 3000 words. The statistics from model a response length and model b response length are approximately the same because they both represent the general case. Generally, a model will respond with an average of about 800 words, with 75% of responses being less than 1200 words. Observe that the distribution for response length is right skewed, where shorter responses of about 200 words are the most frequent. Additionally, there is another common general response length of about 1000 words which is the next most frequent response length.\n",
    "\n",
    " - What are the top five models based on winning from either model a or model b?\n",
    "\n",
    " The top five models based on the total number of wins ini descending order are: 'gpt-4', 'vicuna-13b', 'gpt-3.5-turbo', 'claude-v1', and 'koala-13b'.\n",
    "\n",
    " - Describe the distribution of the top five models based solely on wins. What is the average response length of the top five models compared to models in general?\n",
    "\n",
    " The response length distribution of the top five models is right skewed. All of the top five models generally respond in less than 3000 words, except for 'gpt-4' which will occasionally respond with up to about 5000 words. Three of the top five models will most frequently respond with around 500 words. For the other two models: 'koala-13b' will most frequently respond with about 1200 words, and 'claude-v1' will respond most frequently with about 1800 words. The average response length of the top five models is about 930 words, where 75% of responses are less than about 1400 words.\n",
    "\n",
    " - What is the best model based solely on wins? Describe it's distribution and compare its statistics versus the general case of the top five models.\n",
    "\n",
    " The best model based solely on wins is 'gpt-4' with 2218 wins. This is approximately 250 more wins than the next best model,'vicuna-13b'. It is most frequent for 'gpt-4' to respond with about 150 words. The average response length of 'gpt-4' is about 1100 words, where 50% of the responses are less than 815 words. Even though the average length of the response of 'gpt-4' is greater than that of the general case of the average response length of the top five models (about 930 words), 'gpt-4' will respond most frequently with fewer words as compared to the other models in the top five models. This means that the quality of the response of 'gpt-4' can be significantly better than that of other models, while generalizing its solution to a fewer number of words, more frequently. However, it should be noted that 'gpt-3.5-turbo' is the third best model and generalizes its responses to approximately 150 words more frequently than 'gpt-4'. By observing the distribution of 'gpt-4' versus 'gpt-3.5-turbo' you can see that 'gpt-4' is capable of producing resposes which are much longer than 'gpt-3.5-turbo'. This could indicate that 'gpt-4' has been trained on more data, or has been tuned to be able to provide better responses to the users.\n",
    "\n"
   ]
  },
  {
   "cell_type": "markdown",
   "id": "626074ea-6660-4cfd-a4fa-17d2249d9304",
   "metadata": {},
   "source": [
    "### Auxilliary Data Set - Prompt Embeddings\n",
    "\n",
    "Text embedding models transform natural language text into numerical vectors. The vectors are generated in such a way that semantically similar text are close to each other in the vector space. In the real world, these embeddings to find similar questions or to cluster the questions.\n",
    "\n",
    "Lets' investigate the prompy embedding data (`./chatbot-arena-prompts-embeddings.npy`). This dataset contains 256-dimensional text embeddings for each of the user prompts, each embedding is a 256-dimensional vector that represents the semantic meaning of a prompt. These vectors allow us to compare prompts based on their content.\n",
    "\n",
    "In this section we will be computing the similarity between prompts using the precomputed embeddings. The goal is to find prompts that are similar to a given prompt based on their embeddings.\n"
   ]
  },
  {
   "cell_type": "code",
   "execution_count": 33,
   "id": "ea2dfdba-9cca-4bf0-8f5c-f21b7a59854b",
   "metadata": {},
   "outputs": [
    {
     "data": {
      "text/plain": [
       "array([[-0.12376316, -0.1173524 ,  0.04567662, ..., -0.02439648,\n",
       "        -0.03724024, -0.04380682],\n",
       "       [ 0.00602781,  0.02843601, -0.09102212, ...,  0.08506154,\n",
       "        -0.05333152,  0.00185428],\n",
       "       [-0.03522179, -0.10940242, -0.02224718, ..., -0.14116742,\n",
       "         0.00477351,  0.00416916],\n",
       "       ...,\n",
       "       [ 0.02476096, -0.02741823,  0.07049022, ..., -0.05541623,\n",
       "        -0.02461602,  0.06005438],\n",
       "       [ 0.01620374,  0.04473886,  0.08496623, ..., -0.02189322,\n",
       "        -0.05438842,  0.02849752],\n",
       "       [-0.04179214,  0.00963908, -0.00338678, ...,  0.08221702,\n",
       "        -0.02381286, -0.10591594]], dtype=float32)"
      ]
     },
     "execution_count": 33,
     "metadata": {},
     "output_type": "execute_result"
    }
   ],
   "source": [
    "# View the data\n",
    "prompt_embeddings"
   ]
  },
  {
   "cell_type": "markdown",
   "id": "44759049-09d6-4850-b21d-c194943a9c92",
   "metadata": {},
   "source": [
    "The embeddings are a matrix where each row corresponds to a prompt from the dataset. Each row is a 256-dimensional vector that captures the semantic meaning of the prompt."
   ]
  },
  {
   "cell_type": "code",
   "execution_count": 34,
   "id": "d67d2105-bbf0-4323-a0bf-603d0ce70f88",
   "metadata": {},
   "outputs": [
    {
     "data": {
      "text/plain": [
       "(25282, 256)"
      ]
     },
     "execution_count": 34,
     "metadata": {},
     "output_type": "execute_result"
    }
   ],
   "source": [
    "# Check the shape of the data\n",
    "prompt_embeddings.shape"
   ]
  },
  {
   "cell_type": "markdown",
   "id": "cfa079ce-05af-498f-b87a-d4f3720ae5e5",
   "metadata": {},
   "source": [
    "The embeddings array has a shape of `(25282, 256)`, meaning there are 25,282 embeddings (one for each prompt), and each embedding is a 256-dimensional vector."
   ]
  },
  {
   "cell_type": "markdown",
   "id": "0de7543f-a340-4ee0-af64-956ad83e2254",
   "metadata": {},
   "source": [
    "Next, we will:\n",
    "1. Take a sample of the embeddings to reduce computation time.\n",
    "2. Compute the dot product between the embeddings to measure similarity.\n",
    "3. Retrieve the most similar prompts to a chosen source prompt.\n",
    "4. Output the top 5 similar prompts.\n",
    "(This is related to the ``(Open-ended) Explore the prompt topics in the dataset (topic modeling).'' requirement of the EDA assignment)\n",
    "\n",
    "Start by taking a sample of the embeddings and calculating the similarity between them using the dot product."
   ]
  },
  {
   "cell_type": "code",
   "execution_count": 35,
   "id": "d127aa9f-763e-4086-9ae5-9464ff37f3b6",
   "metadata": {},
   "outputs": [
    {
     "data": {
      "text/plain": [
       "(1000, 1000)"
      ]
     },
     "execution_count": 35,
     "metadata": {},
     "output_type": "execute_result"
    }
   ],
   "source": [
    "# Sample the first 1000 prompts.\n",
    "embeddings_sample = prompt_embeddings[:1000]\n",
    "\n",
    "# Measure the similarity of the embeddings by computing the dot product.\n",
    "dot_product = np.dot(embeddings_sample, embeddings_sample.T)\n",
    "\n",
    "# Check the shape of the dot product\n",
    "dot_product.shape"
   ]
  },
  {
   "cell_type": "markdown",
   "id": "ac287514-b2d2-4c2c-8250-cbaeec97d73b",
   "metadata": {},
   "source": [
    "Given the above output, the dot product matrix has a shape of (1000, 1000), meaning we have similarity scores between all pairs of prompts in our sample of 1000.\n",
    "\n",
    "Next, let's choose a prompt and find the top 5 most similar prompts based on the computed similarity."
   ]
  },
  {
   "cell_type": "code",
   "execution_count": 36,
   "id": "9ea1a18d-6b3b-4f28-8ca3-24ea8b1689d8",
   "metadata": {},
   "outputs": [
    {
     "data": {
      "text/plain": [
       "'could you explain quantum mechanics for me?'"
      ]
     },
     "execution_count": 36,
     "metadata": {},
     "output_type": "execute_result"
    }
   ],
   "source": [
    "# Select a prompt from the dataframe based on integer indexing.\n",
    "source_prompt_idx = 16\n",
    "source_prompt = df.iloc[source_prompt_idx].prompt\n",
    "source_prompt"
   ]
  },
  {
   "cell_type": "markdown",
   "id": "68a72a91-5a4c-447c-9489-4f7b4fa8844b",
   "metadata": {},
   "source": [
    "The prompt we're using as a reference (index 16) is:\n",
    "\n",
    "`'could you explain quantum mechanics for me?'`\n",
    "\n",
    "Now let's find the top 5 most similar prompts to this one."
   ]
  },
  {
   "cell_type": "code",
   "execution_count": 37,
   "id": "69c8b1b8-9279-4c4f-87f5-f01f5f154822",
   "metadata": {},
   "outputs": [
    {
     "data": {
      "text/plain": [
       "['could you explain quantum mechanics for me?',\n",
       " 'Explain quantum computing in simple terms',\n",
       " 'Explain quantum computing like I’m a six grader',\n",
       " 'What can you tell me about quantum chromodynamics?',\n",
       " 'can you eli5 quantum tunneling?']"
      ]
     },
     "execution_count": 37,
     "metadata": {},
     "output_type": "execute_result"
    }
   ],
   "source": [
    "# Assign a value for the number of similar prompts to find based on the integer indexed prompt\n",
    "top_k = 5\n",
    "\n",
    "# Determine the index of similar prompts using argsort to compute the similarity of the 1000 \n",
    "# sampled prompts versus the integer indexed prompt, sorted in descending order. Then slice the \n",
    "# top_k elements from the bottom of the list and return them in descending order by similarity.\n",
    "similar_promts_idx = np.argsort(dot_product[source_prompt_idx])[-top_k:][::-1]\n",
    "\n",
    "# Locate the similar prompts by integer indexing\n",
    "similar_promts = df.iloc[similar_promts_idx].prompt\n",
    "\n",
    "# Output the similar prompts in a list.\n",
    "similar_promts.tolist()"
   ]
  },
  {
   "cell_type": "markdown",
   "id": "0b0ce403-0390-44b5-9747-1f84f124c681",
   "metadata": {},
   "source": [
    "As you can see, these prompts are closely related to programming tasks, many of them dealing with functions and computations. This shows how embeddings can group semantically similar questions together."
   ]
  },
  {
   "cell_type": "markdown",
   "id": "675ceb2b",
   "metadata": {},
   "source": [
    "### Auxilliary Data Set - Model A Response Embeddings\n",
    "\n",
    "Lets' investigate the prompy embedding data (`./chatbot-arena-model_a_response-embeddings.npy`). This dataset contains 256-dimensional text embeddings for each of model a responses. This is the embedding from `model_a_response` created by extracting the second half of the column `conversation_a` from the main data set. Similar to above, each embedding is a 256-dimensional vector that represents the semantic meaning of a prompt. These vectors allow us to compare prompts based on their content.\n",
    "\n",
    "In this section we will be computing the similarity between responses from Model A using the precomputed embeddings. The goal is to find responses that are similar to a given response based on their embeddings."
   ]
  },
  {
   "cell_type": "code",
   "execution_count": 38,
   "id": "c08b92b0",
   "metadata": {},
   "outputs": [
    {
     "data": {
      "text/plain": [
       "array([[-0.1491493 , -0.08669585,  0.09805102, ..., -0.02593215,\n",
       "         0.02883854, -0.07313272],\n",
       "       [ 0.02954244,  0.05492629, -0.02558972, ...,  0.07534866,\n",
       "        -0.02692788, -0.066208  ],\n",
       "       [ 0.01025808, -0.09417554,  0.01474317, ..., -0.10547299,\n",
       "         0.08545391,  0.01333099],\n",
       "       ...,\n",
       "       [-0.01922561,  0.01210033,  0.10417487, ..., -0.04531752,\n",
       "         0.05281021,  0.06230255],\n",
       "       [-0.00278411,  0.01896625,  0.1015662 , ..., -0.04843859,\n",
       "         0.02523672, -0.02559061],\n",
       "       [-0.00859832, -0.00813303,  0.04082992, ...,  0.05036854,\n",
       "         0.0294495 , -0.11849596]], dtype=float32)"
      ]
     },
     "execution_count": 38,
     "metadata": {},
     "output_type": "execute_result"
    }
   ],
   "source": [
    "# View the data\n",
    "response_a_embeddings"
   ]
  },
  {
   "cell_type": "code",
   "execution_count": 39,
   "id": "3288d002",
   "metadata": {},
   "outputs": [
    {
     "data": {
      "text/plain": [
       "(25282, 256)"
      ]
     },
     "execution_count": 39,
     "metadata": {},
     "output_type": "execute_result"
    }
   ],
   "source": [
    "response_a_embeddings.shape"
   ]
  },
  {
   "cell_type": "code",
   "execution_count": 40,
   "id": "08652cac",
   "metadata": {},
   "outputs": [
    {
     "data": {
      "text/plain": [
       "(1000, 1000)"
      ]
     },
     "execution_count": 40,
     "metadata": {},
     "output_type": "execute_result"
    }
   ],
   "source": [
    "# Let's try to find the closest prompt to a given prompt\n",
    "embeddings_sample = response_a_embeddings[:1000]\n",
    "\n",
    "# Compute the dot product between the embeddings\n",
    "dot_product = np.dot(embeddings_sample, embeddings_sample.T)\n",
    "dot_product.shape"
   ]
  },
  {
   "cell_type": "code",
   "execution_count": 41,
   "id": "b2e86de3",
   "metadata": {},
   "outputs": [
    {
     "data": {
      "text/plain": [
       "'Quantum mechanics is a branch of physics that deals with the behavior of matter and energy at the atomic and subatomic level. It is based on the principles of wave-particle duality, uncertainty principle, and complementarity.\\n\\nIn classical mechanics, objects are described by their position and velocity, and the laws of physics describe how these properties change over time. However, at the atomic and subatomic level, the behavior of objects is not described by classical mechanics, but by the principles of quantum mechanics.\\n\\nOne of the key principles of quantum mechanics is wave-particle duality, which states that particles can exhibit both wave-like and particle-like behavior. This means that particles can be described by a wave function, which gives the probability of finding the particle at a particular location in space.\\n\\nAnother key principle is the uncertainty principle, which states that certain pairs of properties, such as position and momentum, cannot be known with absolute certainty at the same time. This is because the act of measuring one property will disturb the other.\\n\\nFinally, the principle of complementarity states that certain properties of particles, such as their wave function, can only be understood by considering the relationships between different aspects of the particle, rather than considering individual aspects in isolation.\\n\\nQuantum mechanics has a wide range of applications, including the development of semiconductors, lasers, and the theory of quantum computing. However, it is also a very complex and abstract subject, and many of its principles are still not fully understood.'"
      ]
     },
     "execution_count": 41,
     "metadata": {},
     "output_type": "execute_result"
    }
   ],
   "source": [
    "response_prompt_idx = 16\n",
    "response_prompt = df.iloc[response_prompt_idx].response_a\n",
    "response_prompt"
   ]
  },
  {
   "cell_type": "code",
   "execution_count": 42,
   "id": "2401db64",
   "metadata": {},
   "outputs": [
    {
     "data": {
      "text/plain": [
       "['Quantum mechanics is a branch of physics that deals with the behavior of matter and energy at the atomic and subatomic level. It is based on the principles of wave-particle duality, uncertainty principle, and complementarity.\\n\\nIn classical mechanics, objects are described by their position and velocity, and the laws of physics describe how these properties change over time. However, at the atomic and subatomic level, the behavior of objects is not described by classical mechanics, but by the principles of quantum mechanics.\\n\\nOne of the key principles of quantum mechanics is wave-particle duality, which states that particles can exhibit both wave-like and particle-like behavior. This means that particles can be described by a wave function, which gives the probability of finding the particle at a particular location in space.\\n\\nAnother key principle is the uncertainty principle, which states that certain pairs of properties, such as position and momentum, cannot be known with absolute certainty at the same time. This is because the act of measuring one property will disturb the other.\\n\\nFinally, the principle of complementarity states that certain properties of particles, such as their wave function, can only be understood by considering the relationships between different aspects of the particle, rather than considering individual aspects in isolation.\\n\\nQuantum mechanics has a wide range of applications, including the development of semiconductors, lasers, and the theory of quantum computing. However, it is also a very complex and abstract subject, and many of its principles are still not fully understood.',\n",
       " 'Quantum computing is a type of computing that uses the principles of quantum mechanics to perform calculations and solve problems. Quantum mechanics is a branch of physics that deals with the behavior of very small things, like atoms and subatomic particles.\\n\\nIn a normal computer, information is stored and processed using bits, which are units of data that can be either a 0 or a 1. But in a quantum computer, information is stored and processed using quantum bits, or qubits. Qubits can be both a 0 and a 1 at the same time, a property known as superposition.\\n\\nThis means that a quantum computer can perform many calculations simultaneously, which can make it much faster and more powerful than a normal computer.\\n\\nAnother important property of qubits is entanglement. This means that two qubits can be connected in such a way that the state of one qubit affects the state of the other qubit, even if they are separated by very large distances.\\n\\nQuantum computers are still in the early stages of development, but they have the potential to solve some problems that are currently beyond the capabilities of normal computers. For example, they could be used to develop new drugs, design more efficient energy systems, or even crack complex encryption codes.',\n",
       " 'Quantum computing is a type of computing that uses the principles of quantum mechanics to perform calculations and operations on data. Unlike classical computers, which use bits to represent and process information, quantum computers use quantum bits, or qubits, which can exist in multiple states simultaneously. This allows quantum computers to perform certain types of calculations much faster than classical computers. However, quantum computers are still in the early stages of development, and there are many challenges to overcome before they can be used for practical applications.',\n",
       " 'Quantum chromodynamics (QCD) is the theoretical framework that describes the behavior of the strong nuclear force, which is one of the fundamental forces of nature. It is a quantum field theory that is used to describe the behavior of quarks and gluons, which are the fundamental particles that make up protons, neutrons, and other hadrons.\\n\\nQCD is a relativistic quantum field theory, which means that it takes into account both quantum mechanics and special relativity. It is also a non-Abelian theory, which means that the interactions between particles are described by a set of rules that are more complex than those of an Abelian theory.\\n\\nOne of the key features of QCD is that it predicts the existence of quark and gluon jets, which are highly collimated streams of particles that are produced when a quark or gluon is scattered or produced in a hard scattering process. These jets are a key signature of QCD and are used to study the behavior of quarks and gluons in high-energy collisions.\\n\\nQCD has been used to make a number of predictions that have been confirmed by experimental data, including the existence of the charm quark, the bottom quark, and the top quark. It has also been used to make predictions about the behavior of hadrons at high energies, which are being tested at the Large Hadron Collider (LHC) and other experimental facilities.\\n\\nOverall, QCD is a powerful theoretical framework that has revolutionized our understanding of the strong nuclear force and the behavior of quarks and gluons. It continues to be a major area of research in theoretical physics, as scientists seek to understand the fundamental nature of the universe.',\n",
       " 'Quantum tunneling is a weird phenomenon in quantum mechanics where a particle can pass through a barrier, like a hill or a wall, even though it doesn\\'t have enough energy to climb over the barrier. This happens because the particle can exist in multiple states at the same time, and it can \"tunnel\" through the barrier by transitioning to a state where it has enough energy to pass through. It\\'s a bit like a ball rolling down a hill - even though it doesn\\'t have enough energy to climb back up the hill, it can still roll through the valley because it can exist in multiple states at the same time.']"
      ]
     },
     "execution_count": 42,
     "metadata": {},
     "output_type": "execute_result"
    }
   ],
   "source": [
    "top_k = 5\n",
    "similar_promts_idx = np.argsort(dot_product[response_prompt_idx])[-top_k:][::-1]\n",
    "similar_promts = df.iloc[similar_promts_idx].response_a\n",
    "similar_promts.tolist()"
   ]
  },
  {
   "cell_type": "markdown",
   "id": "cdb03bf1",
   "metadata": {},
   "source": [
    "### Auxilliary Data Set - Model B Response Embeddings\n",
    "\n",
    "\n",
    "Lets' investigate the prompy embedding data (`./chatbot-arena-model_b_response-embeddings.npy`). This dataset contains 256-dimensional text embeddings for each of model b responses. This is the embedding from `model_b_response` created by extracting the second half of the column `conversation_b` from the main data set. Similar to above, each embedding is a 256-dimensional vector that represents the semantic meaning of a prompt. These vectors allow us to compare prompts based on their content.\n",
    "\n",
    "In this section we will be computing the similarity between responses from Model B using the precomputed embeddings. The goal is to find responses that are similar to a given response based on their embeddings."
   ]
  },
  {
   "cell_type": "code",
   "execution_count": 43,
   "id": "847a551f",
   "metadata": {},
   "outputs": [
    {
     "data": {
      "text/plain": [
       "array([[-0.12210688, -0.07771916,  0.12194429, ..., -0.02888047,\n",
       "         0.00501496, -0.06190705],\n",
       "       [ 0.02394216, -0.06510714, -0.05676256, ..., -0.03929716,\n",
       "        -0.04730213, -0.03767191],\n",
       "       [-0.04066539, -0.10329008, -0.0168253 , ..., -0.11028453,\n",
       "         0.08474667, -0.05624023],\n",
       "       ...,\n",
       "       [ 0.02052799,  0.04245432,  0.01636738, ..., -0.11397564,\n",
       "         0.00396863,  0.06505689],\n",
       "       [ 0.00634935,  0.02982271,  0.11510068, ..., -0.04793011,\n",
       "         0.07726112,  0.005072  ],\n",
       "       [-0.01989259,  0.01122532, -0.0082961 , ...,  0.08924079,\n",
       "         0.01362286, -0.1503932 ]], dtype=float32)"
      ]
     },
     "execution_count": 43,
     "metadata": {},
     "output_type": "execute_result"
    }
   ],
   "source": [
    "# View the data\n",
    "response_b_embeddings"
   ]
  },
  {
   "cell_type": "code",
   "execution_count": 44,
   "id": "f3c87939",
   "metadata": {},
   "outputs": [
    {
     "data": {
      "text/plain": [
       "(25282, 256)"
      ]
     },
     "execution_count": 44,
     "metadata": {},
     "output_type": "execute_result"
    }
   ],
   "source": [
    "response_a_embeddings.shape"
   ]
  },
  {
   "cell_type": "code",
   "execution_count": 45,
   "id": "11f79be1",
   "metadata": {},
   "outputs": [
    {
     "data": {
      "text/plain": [
       "(1000, 1000)"
      ]
     },
     "execution_count": 45,
     "metadata": {},
     "output_type": "execute_result"
    }
   ],
   "source": [
    "# Let's try to find the closest prompt to a given prompt\n",
    "embeddings_sample = response_b_embeddings[:1000]\n",
    "\n",
    "# Compute the dot product between the embeddings\n",
    "dot_product = np.dot(embeddings_sample, embeddings_sample.T)\n",
    "dot_product.shape"
   ]
  },
  {
   "cell_type": "code",
   "execution_count": 46,
   "id": "77fdf5d6",
   "metadata": {},
   "outputs": [
    {
     "data": {
      "text/plain": [
       "'Quantum mechanics is a branch of physics that deals with the behavior of matter and energy at the atomic and subatomic level. It is based on the principles of classical mechanics, but it differs in important ways. Here is a simplified explanation of the basics of quantum mechanics:\\n\\n1.   Atoms are made up of particles.\\n2.   Particles can be described using a set of properties called quantum numbers, such as energy, momentum, angular momentum, and identity.\\n3.   Particles can be in different energy states, and the energy of a particle can be described using a mathematical function called the wave function.\\n4.   The wave function can be used to describe the probability of a particle being in a certain energy state.\\n5.   Particles can also be described using a set of rules called the Schrödinger equation, which describes how the wave function changes over time.\\n6.   The wave function can be used to describe the behavior of particles in a system, such as how they will interact with each other or how they will evolve over time.\\n\\nQuantum mechanics is a powerful and accurate theory that has been used to explain a wide range of phenomena in physics, including the behavior of atoms and molecules, the properties of materials, and the behavior of quantum systems.'"
      ]
     },
     "execution_count": 46,
     "metadata": {},
     "output_type": "execute_result"
    }
   ],
   "source": [
    "response_prompt_idx = 16\n",
    "response_prompt = df.iloc[response_prompt_idx].response_b\n",
    "response_prompt"
   ]
  },
  {
   "cell_type": "code",
   "execution_count": 47,
   "id": "7eef4cff",
   "metadata": {},
   "outputs": [
    {
     "data": {
      "text/plain": [
       "['Quantum mechanics is a branch of physics that deals with the behavior of matter and energy at the atomic and subatomic level. It is based on the principles of classical mechanics, but it differs in important ways. Here is a simplified explanation of the basics of quantum mechanics:\\n\\n1.   Atoms are made up of particles.\\n2.   Particles can be described using a set of properties called quantum numbers, such as energy, momentum, angular momentum, and identity.\\n3.   Particles can be in different energy states, and the energy of a particle can be described using a mathematical function called the wave function.\\n4.   The wave function can be used to describe the probability of a particle being in a certain energy state.\\n5.   Particles can also be described using a set of rules called the Schrödinger equation, which describes how the wave function changes over time.\\n6.   The wave function can be used to describe the behavior of particles in a system, such as how they will interact with each other or how they will evolve over time.\\n\\nQuantum mechanics is a powerful and accurate theory that has been used to explain a wide range of phenomena in physics, including the behavior of atoms and molecules, the properties of materials, and the behavior of quantum systems.',\n",
       " 'Quantum chromodynamics (QCD) is a theoretical framework that describes the strong interactions between quarks and gluons. These interactions are responsible for the fundamental nature of matter and the interactions between particles made up of these fundamental building blocks. QCD is a quantum field theory, which means that it is expressed using quantum mechanics. It is also a gauge theory, meaning that it is based on the idea of a \"gauge\" field, which is a field that is not directly observable, but affects the behavior of the particles it interacts with. QCD is a highly successful theory and has been extensively tested by experiments. It is the foundation of our understanding of the strong interactions and is an essential tool for understanding the fundamental nature of matter and the universe.',\n",
       " 'Sure. Quantum tunneling is a phenomenon in which a particle is able to pass through a barrier that it would not be able to pass through in the classical world. This is because in the quantum world, particles can exist in multiple places at the same time, and can thus \"tunnel\" through the barrier. This phenomenon has been used to explain the behavior of particles at the subatomic level, and has implications for the development of quantum computing.',\n",
       " 'Quantum computing is a type of computing that allows for calculations to be made on all possible states of a system simultaneously, which allows for greater speed and accuracy than traditional computing.',\n",
       " 'If you could make every atom in a computer into a quantum bit, or “qubit,” in a superposition of 0 and 1, the power of a quantum computer would be essentially limitless.']"
      ]
     },
     "execution_count": 47,
     "metadata": {},
     "output_type": "execute_result"
    }
   ],
   "source": [
    "top_k = 5\n",
    "similar_promts_idx = np.argsort(dot_product[response_prompt_idx])[-top_k:][::-1]\n",
    "similar_promts = df.iloc[similar_promts_idx].response_b\n",
    "similar_promts.tolist()"
   ]
  },
  {
   "cell_type": "markdown",
   "id": "8ae89944-fffb-4dd4-a33f-5f7286d3d669",
   "metadata": {},
   "source": [
    "Potential follow-up questions you can explore: \n",
    "- Can you identify clusters of similar topics within the dataset?\n",
    "- How do different models perform on similar prompts?\n",
    "- Can you find examples where semantically similar prompts result in different outcomes?"
   ]
  },
  {
   "cell_type": "code",
   "execution_count": 48,
   "id": "a330dc00",
   "metadata": {},
   "outputs": [
    {
     "data": {
      "image/png": "[encoded data removed]",
      "text/plain": [
       "<Figure size 800x600 with 1 Axes>"
      ]
     },
     "metadata": {},
     "output_type": "display_data"
    }
   ],
   "source": [
    "# Create a plot of silhouette score versus number of clusters.\n",
    "\n",
    "from sklearn.metrics import silhouette_score\n",
    "from sklearn.cluster import KMeans\n",
    "\n",
    "# Create an empty list to store the silhouette scores\n",
    "silhouette_scores = []\n",
    "\n",
    "# Create a range of clusters\n",
    "range_n_clusters = range(2, 100, 10)\n",
    "\n",
    "\n",
    "for n_clusters in range_n_clusters:\n",
    "    kmeans = KMeans(n_clusters=n_clusters, random_state=42)\n",
    "    cluster_labels = kmeans.fit_predict(response_a_embeddings)\n",
    "    silhouette_avg = silhouette_score(response_a_embeddings, cluster_labels)\n",
    "    silhouette_scores.append(silhouette_avg)\n",
    "\n",
    "# Plot the silhouette scores for each number of clusters\n",
    "plt.figure(figsize=(8, 6))\n",
    "plt.plot(range_n_clusters, silhouette_scores, marker='o')\n",
    "plt.xlabel('Number of Clusters')\n",
    "plt.ylabel('Silhouette Score')\n",
    "plt.title('Silhouette Score Method for Determining Optimal Number of Clusters')\n",
    "plt.show();"
   ]
  },
  {
   "cell_type": "markdown",
   "id": "39856510-10f6-4060-b837-013fbbeb5544",
   "metadata": {},
   "source": [
    "### Auxilliary Data Set - Topic Modeling and Hardness Score Data\n",
    "\n",
    "Now, let's explore the second auxiliary dataset `./chatbot-arena-gpt3-scores.jsonl.gz`, which contains valuable information for later modeling tasks. \n",
    "\n",
    "For each prompt, there are 3 responses, as GPT-3.5 is probabilistic. This means we get multiple labels for a single prompt, similar to how real-world datasets can have multiple annotations.\n",
    "\n",
    "Let's start by loading and inspecting the first 5 rows of this dataset to understand its structure.\n",
    "\n",
    "**_Warning_: This data can be messy! This is intentionally not cleaned up for you to resemble real-world data. You are responsible for figuring out the irregularities and cleaning it up. The following cells demonstrate the example of messy data.**"
   ]
  },
  {
   "cell_type": "code",
   "execution_count": 49,
   "id": "9022d114-d745-496e-bbcc-0586f5f550b6",
   "metadata": {},
   "outputs": [
    {
     "data": {
      "text/html": [
       "<div>\n",
       "<style scoped>\n",
       "    .dataframe tbody tr th:only-of-type {\n",
       "        vertical-align: middle;\n",
       "    }\n",
       "\n",
       "    .dataframe tbody tr th {\n",
       "        vertical-align: top;\n",
       "    }\n",
       "\n",
       "    .dataframe thead th {\n",
       "        text-align: right;\n",
       "    }\n",
       "</style>\n",
       "<table border=\"1\" class=\"dataframe\">\n",
       "  <thead>\n",
       "    <tr style=\"text-align: right;\">\n",
       "      <th></th>\n",
       "      <th>question_id</th>\n",
       "      <th>prompt</th>\n",
       "      <th>openai_scores_raw_choices_nested</th>\n",
       "      <th>topic_modeling_1</th>\n",
       "      <th>score_reason_1</th>\n",
       "      <th>score_value_1</th>\n",
       "      <th>topic_modeling_2</th>\n",
       "      <th>score_reason_2</th>\n",
       "      <th>score_value_2</th>\n",
       "      <th>topic_modeling_3</th>\n",
       "      <th>score_reason_3</th>\n",
       "      <th>score_value_3</th>\n",
       "    </tr>\n",
       "  </thead>\n",
       "  <tbody>\n",
       "    <tr>\n",
       "      <th>0</th>\n",
       "      <td>58210e39b3fd4441a2bd4a518bb44c2d</td>\n",
       "      <td>What is the difference between OpenCL and CUDA?</td>\n",
       "      <td>[{'finish_reason': 'stop', 'index': 0, 'logpro...</td>\n",
       "      <td>Technical Comparison</td>\n",
       "      <td>This prompt requires the AI to accurately comp...</td>\n",
       "      <td>9</td>\n",
       "      <td>Software Comparison</td>\n",
       "      <td>This prompt assesses the AI's factual accuracy...</td>\n",
       "      <td>8</td>\n",
       "      <td>Comparison, Technology</td>\n",
       "      <td>This prompt requires the AI to demonstrate kno...</td>\n",
       "      <td>9</td>\n",
       "    </tr>\n",
       "    <tr>\n",
       "      <th>1</th>\n",
       "      <td>2564acd09e3942fd97657d05282d4389</td>\n",
       "      <td>Why did my parent not invite me to their wedding?</td>\n",
       "      <td>[{'finish_reason': 'stop', 'index': 0, 'logpro...</td>\n",
       "      <td>Reasoning, Emotion</td>\n",
       "      <td>This prompt requires the AI to understand huma...</td>\n",
       "      <td>9</td>\n",
       "      <td>Emotions, Relationships</td>\n",
       "      <td>This prompt involves understanding complex hum...</td>\n",
       "      <td>8</td>\n",
       "      <td>Reasoning, Emotional</td>\n",
       "      <td>This prompt challenges the AI to infer motives...</td>\n",
       "      <td>8</td>\n",
       "    </tr>\n",
       "    <tr>\n",
       "      <th>2</th>\n",
       "      <td>90bfd142157948aba01931726c888e7f</td>\n",
       "      <td>Fuji vs. Nikon, which is better?</td>\n",
       "      <td>[{'finish_reason': 'stop', 'index': 0, 'logpro...</td>\n",
       "      <td>Camera comparison</td>\n",
       "      <td>This prompt does not require problem-solving s...</td>\n",
       "      <td>2</td>\n",
       "      <td>Comparative Analysis</td>\n",
       "      <td>This prompt assesses the AI's ability to analy...</td>\n",
       "      <td>6</td>\n",
       "      <td>Photography comparison</td>\n",
       "      <td>This prompt is subjective and does not provide...</td>\n",
       "      <td>2</td>\n",
       "    </tr>\n",
       "    <tr>\n",
       "      <th>3</th>\n",
       "      <td>a7c5accc53e649a3bc6b2e41d962ebc4</td>\n",
       "      <td>How to build an arena for chatbots?</td>\n",
       "      <td>[{'finish_reason': 'stop', 'index': 0, 'logpro...</td>\n",
       "      <td>Chatbot Arena</td>\n",
       "      <td>This prompt requires problem-solving skills an...</td>\n",
       "      <td>8</td>\n",
       "      <td>Chatbot Arena</td>\n",
       "      <td>This prompt requires the AI to engage in probl...</td>\n",
       "      <td>8</td>\n",
       "      <td>Chatbot Arena</td>\n",
       "      <td>This prompt requires problem-solving skills an...</td>\n",
       "      <td>8</td>\n",
       "    </tr>\n",
       "    <tr>\n",
       "      <th>4</th>\n",
       "      <td>adf27e819a3c494cb6e993f0c660e097</td>\n",
       "      <td>When is it today?</td>\n",
       "      <td>[{'finish_reason': 'stop', 'index': 0, 'logpro...</td>\n",
       "      <td>Time Query</td>\n",
       "      <td>This prompt is very straightforward and does n...</td>\n",
       "      <td>2</td>\n",
       "      <td>Date Inquiry</td>\n",
       "      <td>This prompt is very straightforward and does n...</td>\n",
       "      <td>2</td>\n",
       "      <td>Time-based Inquiry</td>\n",
       "      <td>This prompt is too straightforward and simply ...</td>\n",
       "      <td>2</td>\n",
       "    </tr>\n",
       "  </tbody>\n",
       "</table>\n",
       "</div>"
      ],
      "text/plain": [
       "                        question_id  \\\n",
       "0  58210e39b3fd4441a2bd4a518bb44c2d   \n",
       "1  2564acd09e3942fd97657d05282d4389   \n",
       "2  90bfd142157948aba01931726c888e7f   \n",
       "3  a7c5accc53e649a3bc6b2e41d962ebc4   \n",
       "4  adf27e819a3c494cb6e993f0c660e097   \n",
       "\n",
       "                                              prompt  \\\n",
       "0    What is the difference between OpenCL and CUDA?   \n",
       "1  Why did my parent not invite me to their wedding?   \n",
       "2                   Fuji vs. Nikon, which is better?   \n",
       "3                How to build an arena for chatbots?   \n",
       "4                                  When is it today?   \n",
       "\n",
       "                    openai_scores_raw_choices_nested      topic_modeling_1  \\\n",
       "0  [{'finish_reason': 'stop', 'index': 0, 'logpro...  Technical Comparison   \n",
       "1  [{'finish_reason': 'stop', 'index': 0, 'logpro...    Reasoning, Emotion   \n",
       "2  [{'finish_reason': 'stop', 'index': 0, 'logpro...     Camera comparison   \n",
       "3  [{'finish_reason': 'stop', 'index': 0, 'logpro...         Chatbot Arena   \n",
       "4  [{'finish_reason': 'stop', 'index': 0, 'logpro...            Time Query   \n",
       "\n",
       "                                      score_reason_1 score_value_1  \\\n",
       "0  This prompt requires the AI to accurately comp...             9   \n",
       "1  This prompt requires the AI to understand huma...             9   \n",
       "2  This prompt does not require problem-solving s...             2   \n",
       "3  This prompt requires problem-solving skills an...             8   \n",
       "4  This prompt is very straightforward and does n...             2   \n",
       "\n",
       "          topic_modeling_2                                     score_reason_2  \\\n",
       "0      Software Comparison  This prompt assesses the AI's factual accuracy...   \n",
       "1  Emotions, Relationships  This prompt involves understanding complex hum...   \n",
       "2     Comparative Analysis  This prompt assesses the AI's ability to analy...   \n",
       "3            Chatbot Arena  This prompt requires the AI to engage in probl...   \n",
       "4             Date Inquiry  This prompt is very straightforward and does n...   \n",
       "\n",
       "  score_value_2        topic_modeling_3  \\\n",
       "0             8  Comparison, Technology   \n",
       "1             8    Reasoning, Emotional   \n",
       "2             6  Photography comparison   \n",
       "3             8           Chatbot Arena   \n",
       "4             2      Time-based Inquiry   \n",
       "\n",
       "                                      score_reason_3 score_value_3  \n",
       "0  This prompt requires the AI to demonstrate kno...             9  \n",
       "1  This prompt challenges the AI to infer motives...             8  \n",
       "2  This prompt is subjective and does not provide...             2  \n",
       "3  This prompt requires problem-solving skills an...             8  \n",
       "4  This prompt is too straightforward and simply ...             2  "
      ]
     },
     "execution_count": 49,
     "metadata": {},
     "output_type": "execute_result"
    }
   ],
   "source": [
    "# View the data\n",
    "topic_and_hardness.head(5)"
   ]
  },
  {
   "cell_type": "code",
   "execution_count": 50,
   "id": "e4ca35a1",
   "metadata": {},
   "outputs": [
    {
     "name": "stdout",
     "output_type": "stream",
     "text": [
      "<class 'pandas.core.frame.DataFrame'>\n",
      "RangeIndex: 25282 entries, 0 to 25281\n",
      "Data columns (total 12 columns):\n",
      " #   Column                            Non-Null Count  Dtype \n",
      "---  ------                            --------------  ----- \n",
      " 0   question_id                       25282 non-null  object\n",
      " 1   prompt                            25282 non-null  object\n",
      " 2   openai_scores_raw_choices_nested  25282 non-null  object\n",
      " 3   topic_modeling_1                  25256 non-null  object\n",
      " 4   score_reason_1                    25256 non-null  object\n",
      " 5   score_value_1                     25256 non-null  object\n",
      " 6   topic_modeling_2                  25256 non-null  object\n",
      " 7   score_reason_2                    25256 non-null  object\n",
      " 8   score_value_2                     25256 non-null  object\n",
      " 9   topic_modeling_3                  25256 non-null  object\n",
      " 10  score_reason_3                    25256 non-null  object\n",
      " 11  score_value_3                     25256 non-null  object\n",
      "dtypes: object(12)\n",
      "memory usage: 2.3+ MB\n"
     ]
    }
   ],
   "source": [
    "# Check the data types\n",
    "topic_and_hardness.info()"
   ]
  },
  {
   "cell_type": "code",
   "execution_count": 51,
   "id": "fff7219c",
   "metadata": {},
   "outputs": [
    {
     "data": {
      "text/plain": [
       "question_id                          0\n",
       "prompt                               0\n",
       "openai_scores_raw_choices_nested     0\n",
       "topic_modeling_1                    26\n",
       "score_reason_1                      26\n",
       "score_value_1                       26\n",
       "topic_modeling_2                    26\n",
       "score_reason_2                      26\n",
       "score_value_2                       26\n",
       "topic_modeling_3                    26\n",
       "score_reason_3                      26\n",
       "score_value_3                       26\n",
       "dtype: int64"
      ]
     },
     "execution_count": 51,
     "metadata": {},
     "output_type": "execute_result"
    }
   ],
   "source": [
    "# Check for null values in the data\n",
    "topic_and_hardness.isnull().sum()"
   ]
  },
  {
   "cell_type": "markdown",
   "id": "1da6b966",
   "metadata": {},
   "source": [
    "From the above analysis we can see that there is missing data in our dataframe. By observing the `openai_scores_raw_choices_nested` variable we can see that it is not missing any data. This variable contains the nested topic_modelling, score_reason, and score_value variables. It is possible that there was an error in the previous attempt in flattening this array. Similar to the flattening we performed above for the main dataset, we can attempt to re-flatten this variable to see if the values are actually missing."
   ]
  },
  {
   "cell_type": "code",
   "execution_count": 52,
   "id": "ff590f86",
   "metadata": {},
   "outputs": [
    {
     "data": {
      "text/plain": [
       "[{'finish_reason': 'stop',\n",
       "  'index': 0,\n",
       "  'logprobs': None,\n",
       "  'message': {'content': '{\\n    \"topic_modeling\": \"Technical Comparison\",\\n    \"score_reason\": \"This prompt requires the AI to accurately compare and contrast two distinct technologies, OpenCL and CUDA. It assesses the AI\\'s factual accuracy and knowledge of these technologies, as well as its ability to articulate the differences between them.\",\\n    \"score_value\": 9\\n}',\n",
       "   'role': 'assistant',\n",
       "   'function_call': None,\n",
       "   'tool_calls': None}},\n",
       " {'finish_reason': 'stop',\n",
       "  'index': 1,\n",
       "  'logprobs': None,\n",
       "  'message': {'content': '{\\n    \"topic_modeling\": \"Software Comparison\",\\n    \"score_reason\": \"This prompt assesses the AI\\'s factual accuracy in distinguishing between two similar but distinct software frameworks.\",\\n    \"score_value\": 8\\n}',\n",
       "   'role': 'assistant',\n",
       "   'function_call': None,\n",
       "   'tool_calls': None}},\n",
       " {'finish_reason': 'stop',\n",
       "  'index': 2,\n",
       "  'logprobs': None,\n",
       "  'message': {'content': '{\\n    \"topic_modeling\": \"Comparison, Technology\",\\n    \"score_reason\": \"This prompt requires the AI to demonstrate knowledge of two different technologies, compare their features, and explain their distinctions. This task assesses the AI\\'s factual accuracy and proficiency in understanding complex technological concepts.\",\\n    \"score_value\": 9\\n}',\n",
       "   'role': 'assistant',\n",
       "   'function_call': None,\n",
       "   'tool_calls': None}}]"
      ]
     },
     "execution_count": 52,
     "metadata": {},
     "output_type": "execute_result"
    }
   ],
   "source": [
    "topic_and_hardness[\"openai_scores_raw_choices_nested\"].iloc[0]"
   ]
  },
  {
   "cell_type": "code",
   "execution_count": 53,
   "id": "3b17ea37",
   "metadata": {},
   "outputs": [
    {
     "data": {
      "text/plain": [
       "0        {\\n    \"topic_modeling\": \"Technical Comparison...\n",
       "1        {\\n    \"topic_modeling\": \"Reasoning, Emotion\",...\n",
       "2        {\\n    \"topic_modeling\": \"Camera comparison\",\\...\n",
       "3        {\\n    \"topic_modeling\": \"Chatbot Arena\",\\n   ...\n",
       "4        {\\n    \"topic_modeling\": \"Time Query\",\\n    \"s...\n",
       "                               ...                        \n",
       "25277    {\\n    \"topic_modeling\": \"Mathematics, Measure...\n",
       "25278    {\\n    \"topic_modeling\": \"Information Retrieva...\n",
       "25279    {\\n    \"topic_modeling\": \"Training, Hyperparam...\n",
       "25280    {\\n    \"topic_modeling\": \"Language Modeling\",\\...\n",
       "25281    {\\n    \"topic_modeling\": \"Workflow Automation\"...\n",
       "Name: openai_scores_raw_choices_nested, Length: 25282, dtype: object"
      ]
     },
     "execution_count": 53,
     "metadata": {},
     "output_type": "execute_result"
    }
   ],
   "source": [
    "# Obtain the content similar to the Main data set above.\n",
    "ind_1 = topic_and_hardness[\"openai_scores_raw_choices_nested\"].str[0].str[\"message\"].str[\"content\"]\n",
    "ind_1"
   ]
  },
  {
   "cell_type": "markdown",
   "id": "c8f272e6",
   "metadata": {},
   "source": [
    "Observe that the above data is dtype object. It is specifically an unparsed json object. So let's attempt to parse the json object."
   ]
  },
  {
   "cell_type": "code",
   "execution_count": 54,
   "id": "6a6e406b",
   "metadata": {},
   "outputs": [
    {
     "ename": "JSONDecodeError",
     "evalue": "Expecting ':' delimiter: line 103 column 2 (char 316)",
     "output_type": "error",
     "traceback": [
      "\u001b[0;31m---------------------------------------------------------------------------\u001b[0m",
      "\u001b[0;31mJSONDecodeError\u001b[0m                           Traceback (most recent call last)",
      "Cell \u001b[0;32mIn[54], line 4\u001b[0m\n\u001b[1;32m      1\u001b[0m \u001b[38;5;28;01mimport\u001b[39;00m \u001b[38;5;21;01mjson\u001b[39;00m\n\u001b[1;32m      3\u001b[0m \u001b[38;5;66;03m# Parse the json object to obtain the desired data\u001b[39;00m\n\u001b[0;32m----> 4\u001b[0m ind_1 \u001b[38;5;241m=\u001b[39m topic_and_hardness[\u001b[38;5;124m\"\u001b[39m\u001b[38;5;124mopenai_scores_raw_choices_nested\u001b[39m\u001b[38;5;124m\"\u001b[39m]\u001b[38;5;241m.\u001b[39mstr[\u001b[38;5;241m0\u001b[39m]\u001b[38;5;241m.\u001b[39mstr[\u001b[38;5;124m\"\u001b[39m\u001b[38;5;124mmessage\u001b[39m\u001b[38;5;124m\"\u001b[39m]\u001b[38;5;241m.\u001b[39mstr[\u001b[38;5;124m\"\u001b[39m\u001b[38;5;124mcontent\u001b[39m\u001b[38;5;124m\"\u001b[39m]\u001b[38;5;241m.\u001b[39mapply(json\u001b[38;5;241m.\u001b[39mloads)\n\u001b[1;32m      5\u001b[0m ind_1\n",
      "File \u001b[0;32m~/miniconda3/envs/msse-python/lib/python3.11/site-packages/pandas/core/series.py:4924\u001b[0m, in \u001b[0;36mSeries.apply\u001b[0;34m(self, func, convert_dtype, args, by_row, **kwargs)\u001b[0m\n\u001b[1;32m   4789\u001b[0m \u001b[38;5;28;01mdef\u001b[39;00m \u001b[38;5;21mapply\u001b[39m(\n\u001b[1;32m   4790\u001b[0m     \u001b[38;5;28mself\u001b[39m,\n\u001b[1;32m   4791\u001b[0m     func: AggFuncType,\n\u001b[0;32m   (...)\u001b[0m\n\u001b[1;32m   4796\u001b[0m     \u001b[38;5;241m*\u001b[39m\u001b[38;5;241m*\u001b[39mkwargs,\n\u001b[1;32m   4797\u001b[0m ) \u001b[38;5;241m-\u001b[39m\u001b[38;5;241m>\u001b[39m DataFrame \u001b[38;5;241m|\u001b[39m Series:\n\u001b[1;32m   4798\u001b[0m \u001b[38;5;250m    \u001b[39m\u001b[38;5;124;03m\"\"\"\u001b[39;00m\n\u001b[1;32m   4799\u001b[0m \u001b[38;5;124;03m    Invoke function on values of Series.\u001b[39;00m\n\u001b[1;32m   4800\u001b[0m \n\u001b[0;32m   (...)\u001b[0m\n\u001b[1;32m   4915\u001b[0m \u001b[38;5;124;03m    dtype: float64\u001b[39;00m\n\u001b[1;32m   4916\u001b[0m \u001b[38;5;124;03m    \"\"\"\u001b[39;00m\n\u001b[1;32m   4917\u001b[0m     \u001b[38;5;28;01mreturn\u001b[39;00m SeriesApply(\n\u001b[1;32m   4918\u001b[0m         \u001b[38;5;28mself\u001b[39m,\n\u001b[1;32m   4919\u001b[0m         func,\n\u001b[1;32m   4920\u001b[0m         convert_dtype\u001b[38;5;241m=\u001b[39mconvert_dtype,\n\u001b[1;32m   4921\u001b[0m         by_row\u001b[38;5;241m=\u001b[39mby_row,\n\u001b[1;32m   4922\u001b[0m         args\u001b[38;5;241m=\u001b[39margs,\n\u001b[1;32m   4923\u001b[0m         kwargs\u001b[38;5;241m=\u001b[39mkwargs,\n\u001b[0;32m-> 4924\u001b[0m     )\u001b[38;5;241m.\u001b[39mapply()\n",
      "File \u001b[0;32m~/miniconda3/envs/msse-python/lib/python3.11/site-packages/pandas/core/apply.py:1427\u001b[0m, in \u001b[0;36mSeriesApply.apply\u001b[0;34m(self)\u001b[0m\n\u001b[1;32m   1424\u001b[0m     \u001b[38;5;28;01mreturn\u001b[39;00m \u001b[38;5;28mself\u001b[39m\u001b[38;5;241m.\u001b[39mapply_compat()\n\u001b[1;32m   1426\u001b[0m \u001b[38;5;66;03m# self.func is Callable\u001b[39;00m\n\u001b[0;32m-> 1427\u001b[0m \u001b[38;5;28;01mreturn\u001b[39;00m \u001b[38;5;28mself\u001b[39m\u001b[38;5;241m.\u001b[39mapply_standard()\n",
      "File \u001b[0;32m~/miniconda3/envs/msse-python/lib/python3.11/site-packages/pandas/core/apply.py:1507\u001b[0m, in \u001b[0;36mSeriesApply.apply_standard\u001b[0;34m(self)\u001b[0m\n\u001b[1;32m   1501\u001b[0m \u001b[38;5;66;03m# row-wise access\u001b[39;00m\n\u001b[1;32m   1502\u001b[0m \u001b[38;5;66;03m# apply doesn't have a `na_action` keyword and for backward compat reasons\u001b[39;00m\n\u001b[1;32m   1503\u001b[0m \u001b[38;5;66;03m# we need to give `na_action=\"ignore\"` for categorical data.\u001b[39;00m\n\u001b[1;32m   1504\u001b[0m \u001b[38;5;66;03m# TODO: remove the `na_action=\"ignore\"` when that default has been changed in\u001b[39;00m\n\u001b[1;32m   1505\u001b[0m \u001b[38;5;66;03m#  Categorical (GH51645).\u001b[39;00m\n\u001b[1;32m   1506\u001b[0m action \u001b[38;5;241m=\u001b[39m \u001b[38;5;124m\"\u001b[39m\u001b[38;5;124mignore\u001b[39m\u001b[38;5;124m\"\u001b[39m \u001b[38;5;28;01mif\u001b[39;00m \u001b[38;5;28misinstance\u001b[39m(obj\u001b[38;5;241m.\u001b[39mdtype, CategoricalDtype) \u001b[38;5;28;01melse\u001b[39;00m \u001b[38;5;28;01mNone\u001b[39;00m\n\u001b[0;32m-> 1507\u001b[0m mapped \u001b[38;5;241m=\u001b[39m obj\u001b[38;5;241m.\u001b[39m_map_values(\n\u001b[1;32m   1508\u001b[0m     mapper\u001b[38;5;241m=\u001b[39mcurried, na_action\u001b[38;5;241m=\u001b[39maction, convert\u001b[38;5;241m=\u001b[39m\u001b[38;5;28mself\u001b[39m\u001b[38;5;241m.\u001b[39mconvert_dtype\n\u001b[1;32m   1509\u001b[0m )\n\u001b[1;32m   1511\u001b[0m \u001b[38;5;28;01mif\u001b[39;00m \u001b[38;5;28mlen\u001b[39m(mapped) \u001b[38;5;129;01mand\u001b[39;00m \u001b[38;5;28misinstance\u001b[39m(mapped[\u001b[38;5;241m0\u001b[39m], ABCSeries):\n\u001b[1;32m   1512\u001b[0m     \u001b[38;5;66;03m# GH#43986 Need to do list(mapped) in order to get treated as nested\u001b[39;00m\n\u001b[1;32m   1513\u001b[0m     \u001b[38;5;66;03m#  See also GH#25959 regarding EA support\u001b[39;00m\n\u001b[1;32m   1514\u001b[0m     \u001b[38;5;28;01mreturn\u001b[39;00m obj\u001b[38;5;241m.\u001b[39m_constructor_expanddim(\u001b[38;5;28mlist\u001b[39m(mapped), index\u001b[38;5;241m=\u001b[39mobj\u001b[38;5;241m.\u001b[39mindex)\n",
      "File \u001b[0;32m~/miniconda3/envs/msse-python/lib/python3.11/site-packages/pandas/core/base.py:921\u001b[0m, in \u001b[0;36mIndexOpsMixin._map_values\u001b[0;34m(self, mapper, na_action, convert)\u001b[0m\n\u001b[1;32m    918\u001b[0m \u001b[38;5;28;01mif\u001b[39;00m \u001b[38;5;28misinstance\u001b[39m(arr, ExtensionArray):\n\u001b[1;32m    919\u001b[0m     \u001b[38;5;28;01mreturn\u001b[39;00m arr\u001b[38;5;241m.\u001b[39mmap(mapper, na_action\u001b[38;5;241m=\u001b[39mna_action)\n\u001b[0;32m--> 921\u001b[0m \u001b[38;5;28;01mreturn\u001b[39;00m algorithms\u001b[38;5;241m.\u001b[39mmap_array(arr, mapper, na_action\u001b[38;5;241m=\u001b[39mna_action, convert\u001b[38;5;241m=\u001b[39mconvert)\n",
      "File \u001b[0;32m~/miniconda3/envs/msse-python/lib/python3.11/site-packages/pandas/core/algorithms.py:1743\u001b[0m, in \u001b[0;36mmap_array\u001b[0;34m(arr, mapper, na_action, convert)\u001b[0m\n\u001b[1;32m   1741\u001b[0m values \u001b[38;5;241m=\u001b[39m arr\u001b[38;5;241m.\u001b[39mastype(\u001b[38;5;28mobject\u001b[39m, copy\u001b[38;5;241m=\u001b[39m\u001b[38;5;28;01mFalse\u001b[39;00m)\n\u001b[1;32m   1742\u001b[0m \u001b[38;5;28;01mif\u001b[39;00m na_action \u001b[38;5;129;01mis\u001b[39;00m \u001b[38;5;28;01mNone\u001b[39;00m:\n\u001b[0;32m-> 1743\u001b[0m     \u001b[38;5;28;01mreturn\u001b[39;00m lib\u001b[38;5;241m.\u001b[39mmap_infer(values, mapper, convert\u001b[38;5;241m=\u001b[39mconvert)\n\u001b[1;32m   1744\u001b[0m \u001b[38;5;28;01melse\u001b[39;00m:\n\u001b[1;32m   1745\u001b[0m     \u001b[38;5;28;01mreturn\u001b[39;00m lib\u001b[38;5;241m.\u001b[39mmap_infer_mask(\n\u001b[1;32m   1746\u001b[0m         values, mapper, mask\u001b[38;5;241m=\u001b[39misna(values)\u001b[38;5;241m.\u001b[39mview(np\u001b[38;5;241m.\u001b[39muint8), convert\u001b[38;5;241m=\u001b[39mconvert\n\u001b[1;32m   1747\u001b[0m     )\n",
      "File \u001b[0;32mlib.pyx:2972\u001b[0m, in \u001b[0;36mpandas._libs.lib.map_infer\u001b[0;34m()\u001b[0m\n",
      "File \u001b[0;32m~/miniconda3/envs/msse-python/lib/python3.11/json/__init__.py:346\u001b[0m, in \u001b[0;36mloads\u001b[0;34m(s, cls, object_hook, parse_float, parse_int, parse_constant, object_pairs_hook, **kw)\u001b[0m\n\u001b[1;32m    341\u001b[0m     s \u001b[38;5;241m=\u001b[39m s\u001b[38;5;241m.\u001b[39mdecode(detect_encoding(s), \u001b[38;5;124m'\u001b[39m\u001b[38;5;124msurrogatepass\u001b[39m\u001b[38;5;124m'\u001b[39m)\n\u001b[1;32m    343\u001b[0m \u001b[38;5;28;01mif\u001b[39;00m (\u001b[38;5;28mcls\u001b[39m \u001b[38;5;129;01mis\u001b[39;00m \u001b[38;5;28;01mNone\u001b[39;00m \u001b[38;5;129;01mand\u001b[39;00m object_hook \u001b[38;5;129;01mis\u001b[39;00m \u001b[38;5;28;01mNone\u001b[39;00m \u001b[38;5;129;01mand\u001b[39;00m\n\u001b[1;32m    344\u001b[0m         parse_int \u001b[38;5;129;01mis\u001b[39;00m \u001b[38;5;28;01mNone\u001b[39;00m \u001b[38;5;129;01mand\u001b[39;00m parse_float \u001b[38;5;129;01mis\u001b[39;00m \u001b[38;5;28;01mNone\u001b[39;00m \u001b[38;5;129;01mand\u001b[39;00m\n\u001b[1;32m    345\u001b[0m         parse_constant \u001b[38;5;129;01mis\u001b[39;00m \u001b[38;5;28;01mNone\u001b[39;00m \u001b[38;5;129;01mand\u001b[39;00m object_pairs_hook \u001b[38;5;129;01mis\u001b[39;00m \u001b[38;5;28;01mNone\u001b[39;00m \u001b[38;5;129;01mand\u001b[39;00m \u001b[38;5;129;01mnot\u001b[39;00m kw):\n\u001b[0;32m--> 346\u001b[0m     \u001b[38;5;28;01mreturn\u001b[39;00m _default_decoder\u001b[38;5;241m.\u001b[39mdecode(s)\n\u001b[1;32m    347\u001b[0m \u001b[38;5;28;01mif\u001b[39;00m \u001b[38;5;28mcls\u001b[39m \u001b[38;5;129;01mis\u001b[39;00m \u001b[38;5;28;01mNone\u001b[39;00m:\n\u001b[1;32m    348\u001b[0m     \u001b[38;5;28mcls\u001b[39m \u001b[38;5;241m=\u001b[39m JSONDecoder\n",
      "File \u001b[0;32m~/miniconda3/envs/msse-python/lib/python3.11/json/decoder.py:337\u001b[0m, in \u001b[0;36mJSONDecoder.decode\u001b[0;34m(self, s, _w)\u001b[0m\n\u001b[1;32m    332\u001b[0m \u001b[38;5;28;01mdef\u001b[39;00m \u001b[38;5;21mdecode\u001b[39m(\u001b[38;5;28mself\u001b[39m, s, _w\u001b[38;5;241m=\u001b[39mWHITESPACE\u001b[38;5;241m.\u001b[39mmatch):\n\u001b[1;32m    333\u001b[0m \u001b[38;5;250m    \u001b[39m\u001b[38;5;124;03m\"\"\"Return the Python representation of ``s`` (a ``str`` instance\u001b[39;00m\n\u001b[1;32m    334\u001b[0m \u001b[38;5;124;03m    containing a JSON document).\u001b[39;00m\n\u001b[1;32m    335\u001b[0m \n\u001b[1;32m    336\u001b[0m \u001b[38;5;124;03m    \"\"\"\u001b[39;00m\n\u001b[0;32m--> 337\u001b[0m     obj, end \u001b[38;5;241m=\u001b[39m \u001b[38;5;28mself\u001b[39m\u001b[38;5;241m.\u001b[39mraw_decode(s, idx\u001b[38;5;241m=\u001b[39m_w(s, \u001b[38;5;241m0\u001b[39m)\u001b[38;5;241m.\u001b[39mend())\n\u001b[1;32m    338\u001b[0m     end \u001b[38;5;241m=\u001b[39m _w(s, end)\u001b[38;5;241m.\u001b[39mend()\n\u001b[1;32m    339\u001b[0m     \u001b[38;5;28;01mif\u001b[39;00m end \u001b[38;5;241m!=\u001b[39m \u001b[38;5;28mlen\u001b[39m(s):\n",
      "File \u001b[0;32m~/miniconda3/envs/msse-python/lib/python3.11/json/decoder.py:353\u001b[0m, in \u001b[0;36mJSONDecoder.raw_decode\u001b[0;34m(self, s, idx)\u001b[0m\n\u001b[1;32m    344\u001b[0m \u001b[38;5;250m\u001b[39m\u001b[38;5;124;03m\"\"\"Decode a JSON document from ``s`` (a ``str`` beginning with\u001b[39;00m\n\u001b[1;32m    345\u001b[0m \u001b[38;5;124;03ma JSON document) and return a 2-tuple of the Python\u001b[39;00m\n\u001b[1;32m    346\u001b[0m \u001b[38;5;124;03mrepresentation and the index in ``s`` where the document ended.\u001b[39;00m\n\u001b[0;32m   (...)\u001b[0m\n\u001b[1;32m    350\u001b[0m \n\u001b[1;32m    351\u001b[0m \u001b[38;5;124;03m\"\"\"\u001b[39;00m\n\u001b[1;32m    352\u001b[0m \u001b[38;5;28;01mtry\u001b[39;00m:\n\u001b[0;32m--> 353\u001b[0m     obj, end \u001b[38;5;241m=\u001b[39m \u001b[38;5;28mself\u001b[39m\u001b[38;5;241m.\u001b[39mscan_once(s, idx)\n\u001b[1;32m    354\u001b[0m \u001b[38;5;28;01mexcept\u001b[39;00m \u001b[38;5;167;01mStopIteration\u001b[39;00m \u001b[38;5;28;01mas\u001b[39;00m err:\n\u001b[1;32m    355\u001b[0m     \u001b[38;5;28;01mraise\u001b[39;00m JSONDecodeError(\u001b[38;5;124m\"\u001b[39m\u001b[38;5;124mExpecting value\u001b[39m\u001b[38;5;124m\"\u001b[39m, s, err\u001b[38;5;241m.\u001b[39mvalue) \u001b[38;5;28;01mfrom\u001b[39;00m \u001b[38;5;28;01mNone\u001b[39;00m\n",
      "\u001b[0;31mJSONDecodeError\u001b[0m: Expecting ':' delimiter: line 103 column 2 (char 316)"
     ]
    }
   ],
   "source": [
    "import json\n",
    "\n",
    "# Parse the json object to obtain the desired data\n",
    "ind_1 = topic_and_hardness[\"openai_scores_raw_choices_nested\"].str[0].str[\"message\"].str[\"content\"].apply(json.loads)\n",
    "ind_1\n"
   ]
  },
  {
   "cell_type": "markdown",
   "id": "c44082d7",
   "metadata": {},
   "source": [
    "We obtained an error while attempting to parse the json object. The JSONDecodeError will be raised if the given json document is not valid. This means that there are rows of the topic_and_hardness dataframe which do not meet the required format to parse the json object. Let's create a function to parse the rows in valid json format and assign a value of 'None' to rows which cannot be parsed."
   ]
  },
  {
   "cell_type": "code",
   "execution_count": 55,
   "id": "62e4d4f5",
   "metadata": {},
   "outputs": [
    {
     "data": {
      "text/plain": [
       "0        {'topic_modeling': 'Technical Comparison', 'sc...\n",
       "1        {'topic_modeling': 'Reasoning, Emotion', 'scor...\n",
       "2        {'topic_modeling': 'Camera comparison', 'score...\n",
       "3        {'topic_modeling': 'Chatbot Arena', 'score_rea...\n",
       "4        {'topic_modeling': 'Time Query', 'score_reason...\n",
       "                               ...                        \n",
       "25277    {'topic_modeling': 'Mathematics, Measurement',...\n",
       "25278    {'topic_modeling': 'Information Retrieval', 's...\n",
       "25279    {'topic_modeling': 'Training, Hyperparameters'...\n",
       "25280    {'topic_modeling': 'Language Modeling', 'score...\n",
       "25281    {'topic_modeling': 'Workflow Automation', 'sco...\n",
       "Name: openai_scores_raw_choices_nested, Length: 25282, dtype: object"
      ]
     },
     "execution_count": 55,
     "metadata": {},
     "output_type": "execute_result"
    }
   ],
   "source": [
    "# Create a function to parse the valid rows\n",
    "def parse_valid(row):\n",
    "    try:\n",
    "        # Try to parse a row\n",
    "        return json.loads(row)\n",
    "    except (json.JSONDecodeError):\n",
    "        # Return None if the row cannot be parsed\n",
    "        return None\n",
    "\n",
    "# Apply the function to parse the content\n",
    "index_1 = topic_and_hardness[\"openai_scores_raw_choices_nested\"].str[0].str[\"message\"].str[\"content\"].apply(parse_valid)\n",
    "index_1"
   ]
  },
  {
   "cell_type": "code",
   "execution_count": 56,
   "id": "26382e34",
   "metadata": {},
   "outputs": [
    {
     "data": {
      "text/plain": [
       "584     None\n",
       "5595    None\n",
       "Name: openai_scores_raw_choices_nested, dtype: object"
      ]
     },
     "execution_count": 56,
     "metadata": {},
     "output_type": "execute_result"
    }
   ],
   "source": [
    "# Check which rows did not contain valid data\n",
    "index_1[index_1.isnull() == True]"
   ]
  },
  {
   "cell_type": "markdown",
   "id": "8c7f68e9",
   "metadata": {},
   "source": [
    "Let's create a variable to store these row values. We will use our parse_valid function for index_2 and index_3 and append any rows which do not contain valid information."
   ]
  },
  {
   "cell_type": "code",
   "execution_count": 57,
   "id": "41834e76",
   "metadata": {},
   "outputs": [
    {
     "data": {
      "text/plain": [
       "[584, 5595]"
      ]
     },
     "execution_count": 57,
     "metadata": {},
     "output_type": "execute_result"
    }
   ],
   "source": [
    "invalid_rows = []\n",
    "invalid_rows.extend(list(index_1[index_1.isnull() == True].index))\n",
    "invalid_rows"
   ]
  },
  {
   "cell_type": "code",
   "execution_count": 58,
   "id": "7b563ecf",
   "metadata": {},
   "outputs": [],
   "source": [
    "# Obtain index_2 and index_3\n",
    "index_2 = topic_and_hardness[\"openai_scores_raw_choices_nested\"].str[1].str[\"message\"].str[\"content\"].apply(parse_valid)\n",
    "index_3 = topic_and_hardness[\"openai_scores_raw_choices_nested\"].str[2].str[\"message\"].str[\"content\"].apply(parse_valid)"
   ]
  },
  {
   "cell_type": "code",
   "execution_count": 59,
   "id": "bdc64449",
   "metadata": {},
   "outputs": [],
   "source": [
    "# Append invalid rows to the list\n",
    "invalid_rows.extend(list(index_2[index_2.isnull() == True].index))\n",
    "invalid_rows.extend(list(index_3[index_3.isnull() == True].index))"
   ]
  },
  {
   "cell_type": "code",
   "execution_count": 60,
   "id": "2f9c5817",
   "metadata": {},
   "outputs": [
    {
     "data": {
      "text/plain": [
       "[584, 5595, 584, 5595, 584]"
      ]
     },
     "execution_count": 60,
     "metadata": {},
     "output_type": "execute_result"
    }
   ],
   "source": [
    "# Check the invalid rows\n",
    "invalid_rows"
   ]
  },
  {
   "cell_type": "code",
   "execution_count": 61,
   "id": "eb81d7c5",
   "metadata": {},
   "outputs": [],
   "source": [
    "# Make it a set to only contain unique values\n",
    "invalid_rows = set(invalid_rows)"
   ]
  },
  {
   "cell_type": "markdown",
   "id": "d551c1ed",
   "metadata": {},
   "source": [
    "Now that we have parsed as much information as possible out of the nested variable. Let's update the topic_and_hardness dataframe with the new values."
   ]
  },
  {
   "cell_type": "code",
   "execution_count": 62,
   "id": "1a3e9ecd",
   "metadata": {},
   "outputs": [],
   "source": [
    "# Update the values from index_1\n",
    "topic_and_hardness[\"topic_modeling_1\"] = index_1.str[\"topic_modeling\"]\n",
    "topic_and_hardness[\"score_reason_1\"] = index_1.str[\"score_reason\"]\n",
    "topic_and_hardness[\"score_value_1\"] = index_1.str[\"score_value\"]\n",
    "\n",
    "# Update the values from index_2\n",
    "topic_and_hardness[\"topic_modeling_2\"] = index_3.str[\"topic_modeling\"]\n",
    "topic_and_hardness[\"score_reason_2\"] = index_3.str[\"score_reason\"]\n",
    "topic_and_hardness[\"score_value_2\"] = index_3.str[\"score_value\"]\n",
    "\n",
    "# Update the values from index_2\n",
    "topic_and_hardness[\"topic_modeling_3\"] = index_3.str[\"topic_modeling\"]\n",
    "topic_and_hardness[\"score_reason_3\"] = index_3.str[\"score_reason\"]\n",
    "topic_and_hardness[\"score_value_3\"] = index_3.str[\"score_value\"]\n",
    "\n"
   ]
  },
  {
   "cell_type": "code",
   "execution_count": 63,
   "id": "d03c7df2",
   "metadata": {},
   "outputs": [
    {
     "data": {
      "text/plain": [
       "question_id                          0\n",
       "prompt                               0\n",
       "openai_scores_raw_choices_nested     0\n",
       "topic_modeling_1                    22\n",
       "score_reason_1                      21\n",
       "score_value_1                       21\n",
       "topic_modeling_2                    25\n",
       "score_reason_2                      25\n",
       "score_value_2                       25\n",
       "topic_modeling_3                    25\n",
       "score_reason_3                      25\n",
       "score_value_3                       25\n",
       "dtype: int64"
      ]
     },
     "execution_count": 63,
     "metadata": {},
     "output_type": "execute_result"
    }
   ],
   "source": [
    "# Check for null values in the data\n",
    "topic_and_hardness.isnull().sum()"
   ]
  },
  {
   "cell_type": "markdown",
   "id": "8d58e014",
   "metadata": {},
   "source": [
    "We have reduced the number of null values in the data, but there is still remaining null values in the nested data. Let's explore this in more detail."
   ]
  },
  {
   "cell_type": "code",
   "execution_count": 64,
   "id": "ccac02bc",
   "metadata": {},
   "outputs": [
    {
     "data": {
      "text/html": [
       "<div>\n",
       "<style scoped>\n",
       "    .dataframe tbody tr th:only-of-type {\n",
       "        vertical-align: middle;\n",
       "    }\n",
       "\n",
       "    .dataframe tbody tr th {\n",
       "        vertical-align: top;\n",
       "    }\n",
       "\n",
       "    .dataframe thead th {\n",
       "        text-align: right;\n",
       "    }\n",
       "</style>\n",
       "<table border=\"1\" class=\"dataframe\">\n",
       "  <thead>\n",
       "    <tr style=\"text-align: right;\">\n",
       "      <th></th>\n",
       "      <th>question_id</th>\n",
       "      <th>prompt</th>\n",
       "      <th>openai_scores_raw_choices_nested</th>\n",
       "      <th>topic_modeling_1</th>\n",
       "      <th>score_reason_1</th>\n",
       "      <th>score_value_1</th>\n",
       "      <th>topic_modeling_2</th>\n",
       "      <th>score_reason_2</th>\n",
       "      <th>score_value_2</th>\n",
       "      <th>topic_modeling_3</th>\n",
       "      <th>score_reason_3</th>\n",
       "      <th>score_value_3</th>\n",
       "    </tr>\n",
       "  </thead>\n",
       "  <tbody>\n",
       "    <tr>\n",
       "      <th>584</th>\n",
       "      <td>e6d45ead33114cca8ee3cfa028517eff</td>\n",
       "      <td>I want you to act as a linux terminal. I will ...</td>\n",
       "      <td>[{'finish_reason': 'stop', 'index': 0, 'logpro...</td>\n",
       "      <td>None</td>\n",
       "      <td>None</td>\n",
       "      <td>None</td>\n",
       "      <td>None</td>\n",
       "      <td>None</td>\n",
       "      <td>None</td>\n",
       "      <td>None</td>\n",
       "      <td>None</td>\n",
       "      <td>None</td>\n",
       "    </tr>\n",
       "    <tr>\n",
       "      <th>5060</th>\n",
       "      <td>addaa796ee094f029f8014ea1468df8a</td>\n",
       "      <td>\\nAssume the role of an API that provides a ch...</td>\n",
       "      <td>[{'finish_reason': 'stop', 'index': 0, 'logpro...</td>\n",
       "      <td>None</td>\n",
       "      <td>The task involves understanding data dimension...</td>\n",
       "      <td>9</td>\n",
       "      <td>None</td>\n",
       "      <td>None</td>\n",
       "      <td>None</td>\n",
       "      <td>None</td>\n",
       "      <td>None</td>\n",
       "      <td>None</td>\n",
       "    </tr>\n",
       "    <tr>\n",
       "      <th>5458</th>\n",
       "      <td>d37eb99864fa41ecab49026abdddb53e</td>\n",
       "      <td>I want you to act as a javascript console. I w...</td>\n",
       "      <td>[{'finish_reason': 'stop', 'index': 0, 'logpro...</td>\n",
       "      <td>None</td>\n",
       "      <td>None</td>\n",
       "      <td>None</td>\n",
       "      <td>None</td>\n",
       "      <td>None</td>\n",
       "      <td>None</td>\n",
       "      <td>None</td>\n",
       "      <td>None</td>\n",
       "      <td>None</td>\n",
       "    </tr>\n",
       "    <tr>\n",
       "      <th>5595</th>\n",
       "      <td>6da02001e74041d0947982fb4d05db9e</td>\n",
       "      <td>I want you to act as a linux terminal. I will ...</td>\n",
       "      <td>[{'finish_reason': 'stop', 'index': 0, 'logpro...</td>\n",
       "      <td>None</td>\n",
       "      <td>None</td>\n",
       "      <td>None</td>\n",
       "      <td>None</td>\n",
       "      <td>None</td>\n",
       "      <td>None</td>\n",
       "      <td>None</td>\n",
       "      <td>None</td>\n",
       "      <td>None</td>\n",
       "    </tr>\n",
       "    <tr>\n",
       "      <th>6260</th>\n",
       "      <td>d93e36df73e84aa2ade15d4a038c098f</td>\n",
       "      <td># User Input\\n## This is what the user request...</td>\n",
       "      <td>[{'finish_reason': 'stop', 'index': 0, 'logpro...</td>\n",
       "      <td>None</td>\n",
       "      <td>None</td>\n",
       "      <td>None</td>\n",
       "      <td>None</td>\n",
       "      <td>None</td>\n",
       "      <td>None</td>\n",
       "      <td>None</td>\n",
       "      <td>None</td>\n",
       "      <td>None</td>\n",
       "    </tr>\n",
       "    <tr>\n",
       "      <th>7807</th>\n",
       "      <td>50b63f92bc5948218e1555d1eae17797</td>\n",
       "      <td>Submit a JSON object, exclusively, with the sp...</td>\n",
       "      <td>[{'finish_reason': 'stop', 'index': 0, 'logpro...</td>\n",
       "      <td>None</td>\n",
       "      <td>None</td>\n",
       "      <td>None</td>\n",
       "      <td>None</td>\n",
       "      <td>None</td>\n",
       "      <td>None</td>\n",
       "      <td>None</td>\n",
       "      <td>None</td>\n",
       "      <td>None</td>\n",
       "    </tr>\n",
       "    <tr>\n",
       "      <th>7808</th>\n",
       "      <td>8277b16d9a0845d694a33c04f446926c</td>\n",
       "      <td>Submit a JSON object, exclusively, with the sp...</td>\n",
       "      <td>[{'finish_reason': 'stop', 'index': 0, 'logpro...</td>\n",
       "      <td>None</td>\n",
       "      <td>None</td>\n",
       "      <td>None</td>\n",
       "      <td>None</td>\n",
       "      <td>None</td>\n",
       "      <td>None</td>\n",
       "      <td>None</td>\n",
       "      <td>None</td>\n",
       "      <td>None</td>\n",
       "    </tr>\n",
       "    <tr>\n",
       "      <th>7809</th>\n",
       "      <td>d56d698d4c1c495682a366f2a78fcb77</td>\n",
       "      <td>Submit a JSON object, exclusively, with the sp...</td>\n",
       "      <td>[{'finish_reason': 'stop', 'index': 0, 'logpro...</td>\n",
       "      <td>None</td>\n",
       "      <td>None</td>\n",
       "      <td>None</td>\n",
       "      <td>None</td>\n",
       "      <td>None</td>\n",
       "      <td>None</td>\n",
       "      <td>None</td>\n",
       "      <td>None</td>\n",
       "      <td>None</td>\n",
       "    </tr>\n",
       "    <tr>\n",
       "      <th>8529</th>\n",
       "      <td>86c7abedb5f84b7ea752cc98d324d387</td>\n",
       "      <td>Reply in the format: {\"question\":\"&lt;question&gt;\",...</td>\n",
       "      <td>[{'finish_reason': 'stop', 'index': 0, 'logpro...</td>\n",
       "      <td>None</td>\n",
       "      <td>None</td>\n",
       "      <td>None</td>\n",
       "      <td>None</td>\n",
       "      <td>None</td>\n",
       "      <td>None</td>\n",
       "      <td>None</td>\n",
       "      <td>None</td>\n",
       "      <td>None</td>\n",
       "    </tr>\n",
       "    <tr>\n",
       "      <th>10755</th>\n",
       "      <td>974569d7b9c74ca591f1922bf3722266</td>\n",
       "      <td>Introducing MPT-7B, the latest entry in our Mo...</td>\n",
       "      <td>[{'finish_reason': 'stop', 'index': 0, 'logpro...</td>\n",
       "      <td>None</td>\n",
       "      <td>None</td>\n",
       "      <td>None</td>\n",
       "      <td>None</td>\n",
       "      <td>None</td>\n",
       "      <td>None</td>\n",
       "      <td>None</td>\n",
       "      <td>None</td>\n",
       "      <td>None</td>\n",
       "    </tr>\n",
       "    <tr>\n",
       "      <th>10857</th>\n",
       "      <td>ba3cfbae941946c6a41ea725b46f3aa7</td>\n",
       "      <td>I'd like some new prompts that are funky and u...</td>\n",
       "      <td>[{'finish_reason': 'stop', 'index': 0, 'logpro...</td>\n",
       "      <td>Creative Prompts</td>\n",
       "      <td>These prompts require a high level of creativi...</td>\n",
       "      <td>9</td>\n",
       "      <td>None</td>\n",
       "      <td>None</td>\n",
       "      <td>None</td>\n",
       "      <td>None</td>\n",
       "      <td>None</td>\n",
       "      <td>None</td>\n",
       "    </tr>\n",
       "    <tr>\n",
       "      <th>14269</th>\n",
       "      <td>283be8724d674cb6a74da59d0c12ea16</td>\n",
       "      <td>You will be given a query which needs to be co...</td>\n",
       "      <td>[{'finish_reason': 'stop', 'index': 0, 'logpro...</td>\n",
       "      <td>None</td>\n",
       "      <td>None</td>\n",
       "      <td>None</td>\n",
       "      <td>None</td>\n",
       "      <td>None</td>\n",
       "      <td>None</td>\n",
       "      <td>None</td>\n",
       "      <td>None</td>\n",
       "      <td>None</td>\n",
       "    </tr>\n",
       "    <tr>\n",
       "      <th>15368</th>\n",
       "      <td>fbd400babd914eb1ad6202b4400d6beb</td>\n",
       "      <td>1. Use m to substitute p, a to substitute e, n...</td>\n",
       "      <td>[{'finish_reason': 'stop', 'index': 0, 'logpro...</td>\n",
       "      <td>Problem-solving, Factual accuracy</td>\n",
       "      <td>These prompts range from simple mathematical o...</td>\n",
       "      <td>7</td>\n",
       "      <td>None</td>\n",
       "      <td>None</td>\n",
       "      <td>None</td>\n",
       "      <td>None</td>\n",
       "      <td>None</td>\n",
       "      <td>None</td>\n",
       "    </tr>\n",
       "    <tr>\n",
       "      <th>23775</th>\n",
       "      <td>f9ad250d0194489b8b9f12d31386aab1</td>\n",
       "      <td>You are a gentle AI assistant and can answer q...</td>\n",
       "      <td>[{'finish_reason': 'stop', 'index': 0, 'logpro...</td>\n",
       "      <td>None</td>\n",
       "      <td>None</td>\n",
       "      <td>None</td>\n",
       "      <td>None</td>\n",
       "      <td>None</td>\n",
       "      <td>None</td>\n",
       "      <td>None</td>\n",
       "      <td>None</td>\n",
       "      <td>None</td>\n",
       "    </tr>\n",
       "    <tr>\n",
       "      <th>23776</th>\n",
       "      <td>7e371a23981847c7b19bc61195f11eda</td>\n",
       "      <td>You are a gentle AI assistant and can answer q...</td>\n",
       "      <td>[{'finish_reason': 'stop', 'index': 0, 'logpro...</td>\n",
       "      <td>None</td>\n",
       "      <td>None</td>\n",
       "      <td>None</td>\n",
       "      <td>None</td>\n",
       "      <td>None</td>\n",
       "      <td>None</td>\n",
       "      <td>None</td>\n",
       "      <td>None</td>\n",
       "      <td>None</td>\n",
       "    </tr>\n",
       "    <tr>\n",
       "      <th>23778</th>\n",
       "      <td>f55b273603754c0d92f5139351ca0d02</td>\n",
       "      <td>You are a gentle AI assistant and can answer q...</td>\n",
       "      <td>[{'finish_reason': 'stop', 'index': 0, 'logpro...</td>\n",
       "      <td>None</td>\n",
       "      <td>None</td>\n",
       "      <td>None</td>\n",
       "      <td>None</td>\n",
       "      <td>None</td>\n",
       "      <td>None</td>\n",
       "      <td>None</td>\n",
       "      <td>None</td>\n",
       "      <td>None</td>\n",
       "    </tr>\n",
       "    <tr>\n",
       "      <th>23779</th>\n",
       "      <td>255e1466eaf14cc2ba93040776c0c440</td>\n",
       "      <td>You are a gentle AI assistant and can answer q...</td>\n",
       "      <td>[{'finish_reason': 'stop', 'index': 0, 'logpro...</td>\n",
       "      <td>None</td>\n",
       "      <td>None</td>\n",
       "      <td>None</td>\n",
       "      <td>None</td>\n",
       "      <td>None</td>\n",
       "      <td>None</td>\n",
       "      <td>None</td>\n",
       "      <td>None</td>\n",
       "      <td>None</td>\n",
       "    </tr>\n",
       "    <tr>\n",
       "      <th>23780</th>\n",
       "      <td>6979b646271e46f4a329a5e6acaeed38</td>\n",
       "      <td>You are a gentle AI assistant and can answer q...</td>\n",
       "      <td>[{'finish_reason': 'stop', 'index': 0, 'logpro...</td>\n",
       "      <td>None</td>\n",
       "      <td>None</td>\n",
       "      <td>None</td>\n",
       "      <td>None</td>\n",
       "      <td>None</td>\n",
       "      <td>None</td>\n",
       "      <td>None</td>\n",
       "      <td>None</td>\n",
       "      <td>None</td>\n",
       "    </tr>\n",
       "    <tr>\n",
       "      <th>23781</th>\n",
       "      <td>ed7fa335d5524295b1dd79452778d26c</td>\n",
       "      <td>You are a gentle AI assistant and can answer q...</td>\n",
       "      <td>[{'finish_reason': 'stop', 'index': 0, 'logpro...</td>\n",
       "      <td>None</td>\n",
       "      <td>None</td>\n",
       "      <td>None</td>\n",
       "      <td>None</td>\n",
       "      <td>None</td>\n",
       "      <td>None</td>\n",
       "      <td>None</td>\n",
       "      <td>None</td>\n",
       "      <td>None</td>\n",
       "    </tr>\n",
       "    <tr>\n",
       "      <th>23782</th>\n",
       "      <td>f794c699e4964b11a1373976be5b0944</td>\n",
       "      <td>You are a gentle AI assistant and can answer q...</td>\n",
       "      <td>[{'finish_reason': 'stop', 'index': 0, 'logpro...</td>\n",
       "      <td>None</td>\n",
       "      <td>None</td>\n",
       "      <td>None</td>\n",
       "      <td>None</td>\n",
       "      <td>None</td>\n",
       "      <td>None</td>\n",
       "      <td>None</td>\n",
       "      <td>None</td>\n",
       "      <td>None</td>\n",
       "    </tr>\n",
       "    <tr>\n",
       "      <th>23783</th>\n",
       "      <td>c92bcab701cc46649368fc121b84ccc1</td>\n",
       "      <td>You are a gentle AI assistant and can answer q...</td>\n",
       "      <td>[{'finish_reason': 'stop', 'index': 0, 'logpro...</td>\n",
       "      <td>None</td>\n",
       "      <td>None</td>\n",
       "      <td>None</td>\n",
       "      <td>None</td>\n",
       "      <td>None</td>\n",
       "      <td>None</td>\n",
       "      <td>None</td>\n",
       "      <td>None</td>\n",
       "      <td>None</td>\n",
       "    </tr>\n",
       "    <tr>\n",
       "      <th>24962</th>\n",
       "      <td>a632607132cf4908883fd262102714c9</td>\n",
       "      <td>You are a gentle AI assistant and can answer q...</td>\n",
       "      <td>[{'finish_reason': 'stop', 'index': 0, 'logpro...</td>\n",
       "      <td>None</td>\n",
       "      <td>None</td>\n",
       "      <td>None</td>\n",
       "      <td>None</td>\n",
       "      <td>None</td>\n",
       "      <td>None</td>\n",
       "      <td>None</td>\n",
       "      <td>None</td>\n",
       "      <td>None</td>\n",
       "    </tr>\n",
       "    <tr>\n",
       "      <th>24963</th>\n",
       "      <td>a0857d64b4954ea6bd75c2406c3dd32c</td>\n",
       "      <td>You are a gentle AI assistant and can answer q...</td>\n",
       "      <td>[{'finish_reason': 'stop', 'index': 0, 'logpro...</td>\n",
       "      <td>None</td>\n",
       "      <td>None</td>\n",
       "      <td>None</td>\n",
       "      <td>None</td>\n",
       "      <td>None</td>\n",
       "      <td>None</td>\n",
       "      <td>None</td>\n",
       "      <td>None</td>\n",
       "      <td>None</td>\n",
       "    </tr>\n",
       "    <tr>\n",
       "      <th>24965</th>\n",
       "      <td>e4a1fc8a9462475d95022914cb9f5b03</td>\n",
       "      <td>You are a gentle AI assistant and can answer q...</td>\n",
       "      <td>[{'finish_reason': 'stop', 'index': 0, 'logpro...</td>\n",
       "      <td>None</td>\n",
       "      <td>None</td>\n",
       "      <td>None</td>\n",
       "      <td>None</td>\n",
       "      <td>None</td>\n",
       "      <td>None</td>\n",
       "      <td>None</td>\n",
       "      <td>None</td>\n",
       "      <td>None</td>\n",
       "    </tr>\n",
       "    <tr>\n",
       "      <th>24966</th>\n",
       "      <td>c7aa752f61dc46d093dc86713686f6f3</td>\n",
       "      <td>You are a gentle AI assistant and can answer q...</td>\n",
       "      <td>[{'finish_reason': 'stop', 'index': 0, 'logpro...</td>\n",
       "      <td>Information Retrieval</td>\n",
       "      <td>This prompt tests the AI's ability to retrieve...</td>\n",
       "      <td>8</td>\n",
       "      <td>None</td>\n",
       "      <td>None</td>\n",
       "      <td>None</td>\n",
       "      <td>None</td>\n",
       "      <td>None</td>\n",
       "      <td>None</td>\n",
       "    </tr>\n",
       "  </tbody>\n",
       "</table>\n",
       "</div>"
      ],
      "text/plain": [
       "                            question_id  \\\n",
       "584    e6d45ead33114cca8ee3cfa028517eff   \n",
       "5060   addaa796ee094f029f8014ea1468df8a   \n",
       "5458   d37eb99864fa41ecab49026abdddb53e   \n",
       "5595   6da02001e74041d0947982fb4d05db9e   \n",
       "6260   d93e36df73e84aa2ade15d4a038c098f   \n",
       "7807   50b63f92bc5948218e1555d1eae17797   \n",
       "7808   8277b16d9a0845d694a33c04f446926c   \n",
       "7809   d56d698d4c1c495682a366f2a78fcb77   \n",
       "8529   86c7abedb5f84b7ea752cc98d324d387   \n",
       "10755  974569d7b9c74ca591f1922bf3722266   \n",
       "10857  ba3cfbae941946c6a41ea725b46f3aa7   \n",
       "14269  283be8724d674cb6a74da59d0c12ea16   \n",
       "15368  fbd400babd914eb1ad6202b4400d6beb   \n",
       "23775  f9ad250d0194489b8b9f12d31386aab1   \n",
       "23776  7e371a23981847c7b19bc61195f11eda   \n",
       "23778  f55b273603754c0d92f5139351ca0d02   \n",
       "23779  255e1466eaf14cc2ba93040776c0c440   \n",
       "23780  6979b646271e46f4a329a5e6acaeed38   \n",
       "23781  ed7fa335d5524295b1dd79452778d26c   \n",
       "23782  f794c699e4964b11a1373976be5b0944   \n",
       "23783  c92bcab701cc46649368fc121b84ccc1   \n",
       "24962  a632607132cf4908883fd262102714c9   \n",
       "24963  a0857d64b4954ea6bd75c2406c3dd32c   \n",
       "24965  e4a1fc8a9462475d95022914cb9f5b03   \n",
       "24966  c7aa752f61dc46d093dc86713686f6f3   \n",
       "\n",
       "                                                  prompt  \\\n",
       "584    I want you to act as a linux terminal. I will ...   \n",
       "5060   \\nAssume the role of an API that provides a ch...   \n",
       "5458   I want you to act as a javascript console. I w...   \n",
       "5595   I want you to act as a linux terminal. I will ...   \n",
       "6260   # User Input\\n## This is what the user request...   \n",
       "7807   Submit a JSON object, exclusively, with the sp...   \n",
       "7808   Submit a JSON object, exclusively, with the sp...   \n",
       "7809   Submit a JSON object, exclusively, with the sp...   \n",
       "8529   Reply in the format: {\"question\":\"<question>\",...   \n",
       "10755  Introducing MPT-7B, the latest entry in our Mo...   \n",
       "10857  I'd like some new prompts that are funky and u...   \n",
       "14269  You will be given a query which needs to be co...   \n",
       "15368  1. Use m to substitute p, a to substitute e, n...   \n",
       "23775  You are a gentle AI assistant and can answer q...   \n",
       "23776  You are a gentle AI assistant and can answer q...   \n",
       "23778  You are a gentle AI assistant and can answer q...   \n",
       "23779  You are a gentle AI assistant and can answer q...   \n",
       "23780  You are a gentle AI assistant and can answer q...   \n",
       "23781  You are a gentle AI assistant and can answer q...   \n",
       "23782  You are a gentle AI assistant and can answer q...   \n",
       "23783  You are a gentle AI assistant and can answer q...   \n",
       "24962  You are a gentle AI assistant and can answer q...   \n",
       "24963  You are a gentle AI assistant and can answer q...   \n",
       "24965  You are a gentle AI assistant and can answer q...   \n",
       "24966  You are a gentle AI assistant and can answer q...   \n",
       "\n",
       "                        openai_scores_raw_choices_nested  \\\n",
       "584    [{'finish_reason': 'stop', 'index': 0, 'logpro...   \n",
       "5060   [{'finish_reason': 'stop', 'index': 0, 'logpro...   \n",
       "5458   [{'finish_reason': 'stop', 'index': 0, 'logpro...   \n",
       "5595   [{'finish_reason': 'stop', 'index': 0, 'logpro...   \n",
       "6260   [{'finish_reason': 'stop', 'index': 0, 'logpro...   \n",
       "7807   [{'finish_reason': 'stop', 'index': 0, 'logpro...   \n",
       "7808   [{'finish_reason': 'stop', 'index': 0, 'logpro...   \n",
       "7809   [{'finish_reason': 'stop', 'index': 0, 'logpro...   \n",
       "8529   [{'finish_reason': 'stop', 'index': 0, 'logpro...   \n",
       "10755  [{'finish_reason': 'stop', 'index': 0, 'logpro...   \n",
       "10857  [{'finish_reason': 'stop', 'index': 0, 'logpro...   \n",
       "14269  [{'finish_reason': 'stop', 'index': 0, 'logpro...   \n",
       "15368  [{'finish_reason': 'stop', 'index': 0, 'logpro...   \n",
       "23775  [{'finish_reason': 'stop', 'index': 0, 'logpro...   \n",
       "23776  [{'finish_reason': 'stop', 'index': 0, 'logpro...   \n",
       "23778  [{'finish_reason': 'stop', 'index': 0, 'logpro...   \n",
       "23779  [{'finish_reason': 'stop', 'index': 0, 'logpro...   \n",
       "23780  [{'finish_reason': 'stop', 'index': 0, 'logpro...   \n",
       "23781  [{'finish_reason': 'stop', 'index': 0, 'logpro...   \n",
       "23782  [{'finish_reason': 'stop', 'index': 0, 'logpro...   \n",
       "23783  [{'finish_reason': 'stop', 'index': 0, 'logpro...   \n",
       "24962  [{'finish_reason': 'stop', 'index': 0, 'logpro...   \n",
       "24963  [{'finish_reason': 'stop', 'index': 0, 'logpro...   \n",
       "24965  [{'finish_reason': 'stop', 'index': 0, 'logpro...   \n",
       "24966  [{'finish_reason': 'stop', 'index': 0, 'logpro...   \n",
       "\n",
       "                        topic_modeling_1  \\\n",
       "584                                 None   \n",
       "5060                                None   \n",
       "5458                                None   \n",
       "5595                                None   \n",
       "6260                                None   \n",
       "7807                                None   \n",
       "7808                                None   \n",
       "7809                                None   \n",
       "8529                                None   \n",
       "10755                               None   \n",
       "10857                   Creative Prompts   \n",
       "14269                               None   \n",
       "15368  Problem-solving, Factual accuracy   \n",
       "23775                               None   \n",
       "23776                               None   \n",
       "23778                               None   \n",
       "23779                               None   \n",
       "23780                               None   \n",
       "23781                               None   \n",
       "23782                               None   \n",
       "23783                               None   \n",
       "24962                               None   \n",
       "24963                               None   \n",
       "24965                               None   \n",
       "24966              Information Retrieval   \n",
       "\n",
       "                                          score_reason_1 score_value_1  \\\n",
       "584                                                 None          None   \n",
       "5060   The task involves understanding data dimension...             9   \n",
       "5458                                                None          None   \n",
       "5595                                                None          None   \n",
       "6260                                                None          None   \n",
       "7807                                                None          None   \n",
       "7808                                                None          None   \n",
       "7809                                                None          None   \n",
       "8529                                                None          None   \n",
       "10755                                               None          None   \n",
       "10857  These prompts require a high level of creativi...             9   \n",
       "14269                                               None          None   \n",
       "15368  These prompts range from simple mathematical o...             7   \n",
       "23775                                               None          None   \n",
       "23776                                               None          None   \n",
       "23778                                               None          None   \n",
       "23779                                               None          None   \n",
       "23780                                               None          None   \n",
       "23781                                               None          None   \n",
       "23782                                               None          None   \n",
       "23783                                               None          None   \n",
       "24962                                               None          None   \n",
       "24963                                               None          None   \n",
       "24965                                               None          None   \n",
       "24966  This prompt tests the AI's ability to retrieve...             8   \n",
       "\n",
       "      topic_modeling_2 score_reason_2 score_value_2 topic_modeling_3  \\\n",
       "584               None           None          None             None   \n",
       "5060              None           None          None             None   \n",
       "5458              None           None          None             None   \n",
       "5595              None           None          None             None   \n",
       "6260              None           None          None             None   \n",
       "7807              None           None          None             None   \n",
       "7808              None           None          None             None   \n",
       "7809              None           None          None             None   \n",
       "8529              None           None          None             None   \n",
       "10755             None           None          None             None   \n",
       "10857             None           None          None             None   \n",
       "14269             None           None          None             None   \n",
       "15368             None           None          None             None   \n",
       "23775             None           None          None             None   \n",
       "23776             None           None          None             None   \n",
       "23778             None           None          None             None   \n",
       "23779             None           None          None             None   \n",
       "23780             None           None          None             None   \n",
       "23781             None           None          None             None   \n",
       "23782             None           None          None             None   \n",
       "23783             None           None          None             None   \n",
       "24962             None           None          None             None   \n",
       "24963             None           None          None             None   \n",
       "24965             None           None          None             None   \n",
       "24966             None           None          None             None   \n",
       "\n",
       "      score_reason_3 score_value_3  \n",
       "584             None          None  \n",
       "5060            None          None  \n",
       "5458            None          None  \n",
       "5595            None          None  \n",
       "6260            None          None  \n",
       "7807            None          None  \n",
       "7808            None          None  \n",
       "7809            None          None  \n",
       "8529            None          None  \n",
       "10755           None          None  \n",
       "10857           None          None  \n",
       "14269           None          None  \n",
       "15368           None          None  \n",
       "23775           None          None  \n",
       "23776           None          None  \n",
       "23778           None          None  \n",
       "23779           None          None  \n",
       "23780           None          None  \n",
       "23781           None          None  \n",
       "23782           None          None  \n",
       "23783           None          None  \n",
       "24962           None          None  \n",
       "24963           None          None  \n",
       "24965           None          None  \n",
       "24966           None          None  "
      ]
     },
     "execution_count": 64,
     "metadata": {},
     "output_type": "execute_result"
    }
   ],
   "source": [
    "# Filter the data to view null values\n",
    "topic_and_hardness[topic_and_hardness[\"topic_modeling_3\"].isnull() == True]"
   ]
  },
  {
   "cell_type": "markdown",
   "id": "5d847433",
   "metadata": {},
   "source": [
    "You can see from the above dataframe that these rows have no meaningful data for topic_modeling, score_reason, or score_value. There are some cases where the first index has meaningful data. However, given the size of the dataset there is not reason to attempt to impute the missing values. Imputing the missing data as an average for the model would skew the results, and since we are only removing a small portion of the data, the effect of removing them will be insignificant.\n",
    "\n",
    "Let's clean up our dataframe by removing the `openai_scores_raw_choices_nested` column, now that it is no longer needed, and removing the rows containing the missing values. "
   ]
  },
  {
   "cell_type": "code",
   "execution_count": 65,
   "id": "99f880bc",
   "metadata": {},
   "outputs": [],
   "source": [
    "#topic_and_hardness.drop(list(topic_and_hardness[topic_and_hardness[\"topic_modeling_3\"].isnull() == True].index), inplace = True)"
   ]
  },
  {
   "cell_type": "code",
   "execution_count": 66,
   "id": "e1619b3f",
   "metadata": {},
   "outputs": [],
   "source": [
    "#topic_and_hardness.drop(columns = \"openai_scores_raw_choices_nested\", inplace = True)"
   ]
  },
  {
   "cell_type": "code",
   "execution_count": 67,
   "id": "30be48c0",
   "metadata": {},
   "outputs": [],
   "source": [
    "# Check for null values\n",
    "#topic_and_hardness.isnull().sum()"
   ]
  },
  {
   "cell_type": "markdown",
   "id": "81e0c64e",
   "metadata": {},
   "source": [
    "Now that we have solved the issue with null values, lets evaluate whether the parsed data has inconsistent formatting. Specifically, the data we are concerned about for analysis is the hardness score. So let us determine if the hardness score has inconsistent formatting."
   ]
  },
  {
   "cell_type": "markdown",
   "id": "1b225511",
   "metadata": {},
   "source": [
    "The code below demonstrates how to identify rows where `score_value_1` is incorrectly formatted as a list:"
   ]
  },
  {
   "cell_type": "code",
   "execution_count": 68,
   "id": "aed25e23",
   "metadata": {},
   "outputs": [
    {
     "data": {
      "text/plain": [
       "12       [[8]]\n",
       "48       [[7]]\n",
       "86       [[7]]\n",
       "144      [[8]]\n",
       "181      [[7]]\n",
       "         ...  \n",
       "25157    [[7]]\n",
       "25170    [[7]]\n",
       "25184    [[8]]\n",
       "25223    [[7]]\n",
       "25240    [[8]]\n",
       "Name: score_value_1, Length: 469, dtype: object"
      ]
     },
     "execution_count": 68,
     "metadata": {},
     "output_type": "execute_result"
    }
   ],
   "source": [
    "topic_and_hardness[\"score_value_1\"][\n",
    "    topic_and_hardness[\"score_value_1\"].apply(lambda x: isinstance(x, list))\n",
    "]"
   ]
  },
  {
   "cell_type": "code",
   "execution_count": 69,
   "id": "00efc599",
   "metadata": {},
   "outputs": [],
   "source": [
    "# Convert the list into an int\n",
    "topic_and_hardness[\"score_value_1\"] = topic_and_hardness[\"score_value_1\"].apply(\n",
    "    # Clean nested list element into an int\n",
    "    lambda x: x[0][0] if isinstance(x, list) and len(x) == 1 and isinstance(x[0], list) and len(x[0]) == 1 else (\n",
    "        # Else clean the list element into an int\n",
    "        x[0] if isinstance(x, list) and len(x) == 1 and isinstance(x[0], (int, float)) \n",
    "        # Else leave it alone\n",
    "        else x\n",
    "    )\n",
    ")"
   ]
  },
  {
   "cell_type": "markdown",
   "id": "76570fd8",
   "metadata": {},
   "source": []
  },
  {
   "cell_type": "code",
   "execution_count": 70,
   "id": "7580f685",
   "metadata": {},
   "outputs": [
    {
     "data": {
      "text/plain": [
       "19       [[9]]\n",
       "107      [[9]]\n",
       "138      [[9]]\n",
       "218      [[6]]\n",
       "399      [[8]]\n",
       "         ...  \n",
       "24964    [[8]]\n",
       "25001    [[7]]\n",
       "25005    [[8]]\n",
       "25171    [[9]]\n",
       "25226    [[8]]\n",
       "Name: score_value_2, Length: 475, dtype: object"
      ]
     },
     "execution_count": 70,
     "metadata": {},
     "output_type": "execute_result"
    }
   ],
   "source": [
    "# Check score value 2\n",
    "topic_and_hardness[\"score_value_2\"][\n",
    "    topic_and_hardness[\"score_value_2\"].apply(lambda x: isinstance(x, list))\n",
    "    ]"
   ]
  },
  {
   "cell_type": "code",
   "execution_count": 71,
   "id": "a5fda9f8",
   "metadata": {},
   "outputs": [],
   "source": [
    "# Convert the list into an int\n",
    "topic_and_hardness[\"score_value_2\"] = topic_and_hardness[\"score_value_2\"].apply(\n",
    "    # Clean nested list element into an int\n",
    "    lambda x: x[0][0] if isinstance(x, list) and len(x) == 1 and isinstance(x[0], list) and len(x[0]) == 1 else (\n",
    "        # Else clean the list element into an int\n",
    "        x[0] if isinstance(x, list) and len(x) == 1 and isinstance(x[0], (int, float)) \n",
    "        # Else leave it alone\n",
    "        else x\n",
    "    )\n",
    ")"
   ]
  },
  {
   "cell_type": "code",
   "execution_count": 72,
   "id": "842ade06",
   "metadata": {},
   "outputs": [
    {
     "data": {
      "text/plain": [
       "19       [[9]]\n",
       "107      [[9]]\n",
       "138      [[9]]\n",
       "218      [[6]]\n",
       "399      [[8]]\n",
       "         ...  \n",
       "24964    [[8]]\n",
       "25001    [[7]]\n",
       "25005    [[8]]\n",
       "25171    [[9]]\n",
       "25226    [[8]]\n",
       "Name: score_value_3, Length: 475, dtype: object"
      ]
     },
     "execution_count": 72,
     "metadata": {},
     "output_type": "execute_result"
    }
   ],
   "source": [
    "# Check score value 3\n",
    "topic_and_hardness[\"score_value_3\"][\n",
    "    topic_and_hardness[\"score_value_3\"].apply(lambda x: isinstance(x, list))\n",
    "]"
   ]
  },
  {
   "cell_type": "code",
   "execution_count": 73,
   "id": "816b7be2",
   "metadata": {},
   "outputs": [],
   "source": [
    "# Convert the list into an int\n",
    "topic_and_hardness[\"score_value_3\"] = topic_and_hardness[\"score_value_3\"].apply(\n",
    "    # Clean nested list element into an int\n",
    "    lambda x: x[0][0] if isinstance(x, list) and len(x) == 1 and isinstance(x[0], list) and len(x[0]) == 1 else (\n",
    "        # Else clean the list element into an int\n",
    "        x[0] if isinstance(x, list) and len(x) == 1 and isinstance(x[0], (int, float)) \n",
    "        # Else leave it alone\n",
    "        else x\n",
    "    )\n",
    ")"
   ]
  },
  {
   "cell_type": "markdown",
   "id": "bdfc975f",
   "metadata": {},
   "source": [
    "Score value contained nested values because when it was writtin into the json file it was written as a nested list.  Now we need to check the rest of our data for incorrect formatting. Let's check the topic_modeling data next."
   ]
  },
  {
   "cell_type": "code",
   "execution_count": 74,
   "id": "2a3a82b9",
   "metadata": {},
   "outputs": [
    {
     "data": {
      "text/plain": [
       "8632             [astronomy, planets]\n",
       "16412              [Combat, Conflict]\n",
       "22905    [videogames, recommendation]\n",
       "Name: topic_modeling_1, dtype: object"
      ]
     },
     "execution_count": 74,
     "metadata": {},
     "output_type": "execute_result"
    }
   ],
   "source": [
    "# Check topic modeling 1\n",
    "topic_and_hardness[\"topic_modeling_1\"][\n",
    "    topic_and_hardness[\"topic_modeling_1\"].apply(lambda x: isinstance(x, list))\n",
    "]"
   ]
  },
  {
   "cell_type": "code",
   "execution_count": 75,
   "id": "25a9df9e",
   "metadata": {},
   "outputs": [],
   "source": [
    "# Let's just use the first value from the list\n",
    "# Convert the list into an int\n",
    "topic_and_hardness[\"topic_modeling_1\"] = topic_and_hardness[\"topic_modeling_1\"].apply(\n",
    "    # Clean nested list element into an string\n",
    "    lambda x: x[0] if isinstance(x, list)\n",
    "    # Else leave it alone\n",
    "    else x\n",
    "    )"
   ]
  },
  {
   "cell_type": "code",
   "execution_count": 76,
   "id": "b2759bb8",
   "metadata": {},
   "outputs": [
    {
     "data": {
      "text/plain": [
       "9430    [Historical Events, Urban Legend]\n",
       "Name: topic_modeling_2, dtype: object"
      ]
     },
     "execution_count": 76,
     "metadata": {},
     "output_type": "execute_result"
    }
   ],
   "source": [
    "# Check topic modeling 2\n",
    "topic_and_hardness[\"topic_modeling_2\"][\n",
    "    topic_and_hardness[\"topic_modeling_2\"].apply(lambda x: isinstance(x, list))\n",
    "]"
   ]
  },
  {
   "cell_type": "code",
   "execution_count": 77,
   "id": "4c5c733c",
   "metadata": {},
   "outputs": [],
   "source": [
    "# Convert the list into an int\n",
    "topic_and_hardness[\"topic_modeling_2\"] = topic_and_hardness[\"topic_modeling_2\"].apply(\n",
    "    # Clean nested list element into an string\n",
    "    lambda x: x[0] if isinstance(x, list)\n",
    "    # Else leave it alone\n",
    "    else x\n",
    "    )"
   ]
  },
  {
   "cell_type": "code",
   "execution_count": 78,
   "id": "0153cb39",
   "metadata": {},
   "outputs": [
    {
     "data": {
      "text/plain": [
       "9430    [Historical Events, Urban Legend]\n",
       "Name: topic_modeling_3, dtype: object"
      ]
     },
     "execution_count": 78,
     "metadata": {},
     "output_type": "execute_result"
    }
   ],
   "source": [
    "# Check topic modeling 3\n",
    "topic_and_hardness[\"topic_modeling_3\"][\n",
    "    topic_and_hardness[\"topic_modeling_3\"].apply(lambda x: isinstance(x, list))\n",
    "]"
   ]
  },
  {
   "cell_type": "code",
   "execution_count": 79,
   "id": "949a4342",
   "metadata": {},
   "outputs": [],
   "source": [
    "# Convert the list into an int\n",
    "topic_and_hardness[\"topic_modeling_3\"] = topic_and_hardness[\"topic_modeling_3\"].apply(\n",
    "    # Clean nested list element into an string\n",
    "    lambda x: x[0] if isinstance(x, list)\n",
    "    # Else leave it alone\n",
    "    else x\n",
    "    )"
   ]
  },
  {
   "cell_type": "markdown",
   "id": "db9c11d5",
   "metadata": {},
   "source": [
    "Now let us check the score reason variable"
   ]
  },
  {
   "cell_type": "code",
   "execution_count": 80,
   "id": "9cc64c12",
   "metadata": {},
   "outputs": [
    {
     "data": {
      "text/plain": [
       "Series([], Name: score_reason_1, dtype: object)"
      ]
     },
     "execution_count": 80,
     "metadata": {},
     "output_type": "execute_result"
    }
   ],
   "source": [
    "# Check score response 1\n",
    "topic_and_hardness[\"score_reason_1\"][\n",
    "    topic_and_hardness[\"score_reason_1\"].apply(lambda x: isinstance(x, list))\n",
    "]"
   ]
  },
  {
   "cell_type": "code",
   "execution_count": 81,
   "id": "06366f48",
   "metadata": {},
   "outputs": [
    {
     "data": {
      "text/plain": [
       "Series([], Name: score_reason_2, dtype: object)"
      ]
     },
     "execution_count": 81,
     "metadata": {},
     "output_type": "execute_result"
    }
   ],
   "source": [
    "# Check score response 2\n",
    "topic_and_hardness[\"score_reason_2\"][\n",
    "    topic_and_hardness[\"score_reason_2\"].apply(lambda x: isinstance(x, list))\n",
    "]"
   ]
  },
  {
   "cell_type": "code",
   "execution_count": 82,
   "id": "e6d837e0",
   "metadata": {},
   "outputs": [
    {
     "data": {
      "text/plain": [
       "Series([], Name: score_reason_3, dtype: object)"
      ]
     },
     "execution_count": 82,
     "metadata": {},
     "output_type": "execute_result"
    }
   ],
   "source": [
    "# Check score response 3\n",
    "topic_and_hardness[\"score_reason_3\"][\n",
    "    topic_and_hardness[\"score_reason_3\"].apply(lambda x: isinstance(x, list))\n",
    "]"
   ]
  },
  {
   "cell_type": "markdown",
   "id": "3ce32e4a",
   "metadata": {},
   "source": [
    "It should be noted that the above analysis only checked the columns for lists. It did not check for any other data types. "
   ]
  },
  {
   "cell_type": "markdown",
   "id": "8ed014e7-fa5f-4b8e-8720-a4453cc7158a",
   "metadata": {},
   "source": [
    "Now that the dataset is clean, we can ask the following questions:\n",
    "- Do models perform differently based on hardness scores?\n",
    "- What are the most common topics in the dataset?\n",
    "- Which topics tend to have higher hardness scores?"
   ]
  },
  {
   "cell_type": "markdown",
   "id": "8c658ce2",
   "metadata": {},
   "source": [
    "### Clean Data Set Analysis"
   ]
  },
  {
   "cell_type": "code",
   "execution_count": 83,
   "id": "4b9ef5d5",
   "metadata": {},
   "outputs": [],
   "source": [
    "# Merge the Main data and the Hardness data on question_id\n",
    "df_merge = df.merge(topic_and_hardness, left_on = \"question_id\", right_on = \"question_id\")"
   ]
  },
  {
   "cell_type": "code",
   "execution_count": 84,
   "id": "943d62bf",
   "metadata": {},
   "outputs": [
    {
     "data": {
      "text/html": [
       "<div>\n",
       "<style scoped>\n",
       "    .dataframe tbody tr th:only-of-type {\n",
       "        vertical-align: middle;\n",
       "    }\n",
       "\n",
       "    .dataframe tbody tr th {\n",
       "        vertical-align: top;\n",
       "    }\n",
       "\n",
       "    .dataframe thead th {\n",
       "        text-align: right;\n",
       "    }\n",
       "</style>\n",
       "<table border=\"1\" class=\"dataframe\">\n",
       "  <thead>\n",
       "    <tr style=\"text-align: right;\">\n",
       "      <th></th>\n",
       "      <th>question_id</th>\n",
       "      <th>model_a</th>\n",
       "      <th>model_b</th>\n",
       "      <th>winner</th>\n",
       "      <th>judge</th>\n",
       "      <th>conversation_a</th>\n",
       "      <th>conversation_b</th>\n",
       "      <th>prompt_x</th>\n",
       "      <th>prompt_length</th>\n",
       "      <th>response_a</th>\n",
       "      <th>...</th>\n",
       "      <th>openai_scores_raw_choices_nested</th>\n",
       "      <th>topic_modeling_1</th>\n",
       "      <th>score_reason_1</th>\n",
       "      <th>score_value_1</th>\n",
       "      <th>topic_modeling_2</th>\n",
       "      <th>score_reason_2</th>\n",
       "      <th>score_value_2</th>\n",
       "      <th>topic_modeling_3</th>\n",
       "      <th>score_reason_3</th>\n",
       "      <th>score_value_3</th>\n",
       "    </tr>\n",
       "  </thead>\n",
       "  <tbody>\n",
       "    <tr>\n",
       "      <th>0</th>\n",
       "      <td>58210e39b3fd4441a2bd4a518bb44c2d</td>\n",
       "      <td>chatglm-6b</td>\n",
       "      <td>koala-13b</td>\n",
       "      <td>model_b</td>\n",
       "      <td>arena_user_973</td>\n",
       "      <td>[{'content': 'What is the difference between O...</td>\n",
       "      <td>[{'content': 'What is the difference between O...</td>\n",
       "      <td>What is the difference between OpenCL and CUDA?</td>\n",
       "      <td>47</td>\n",
       "      <td>OpenCL and CUDA are two different programming ...</td>\n",
       "      <td>...</td>\n",
       "      <td>[{'finish_reason': 'stop', 'index': 0, 'logpro...</td>\n",
       "      <td>Technical Comparison</td>\n",
       "      <td>This prompt requires the AI to accurately comp...</td>\n",
       "      <td>9.0</td>\n",
       "      <td>Comparison, Technology</td>\n",
       "      <td>This prompt requires the AI to demonstrate kno...</td>\n",
       "      <td>9.0</td>\n",
       "      <td>Comparison, Technology</td>\n",
       "      <td>This prompt requires the AI to demonstrate kno...</td>\n",
       "      <td>9.0</td>\n",
       "    </tr>\n",
       "    <tr>\n",
       "      <th>1</th>\n",
       "      <td>2564acd09e3942fd97657d05282d4389</td>\n",
       "      <td>oasst-pythia-12b</td>\n",
       "      <td>alpaca-13b</td>\n",
       "      <td>tie</td>\n",
       "      <td>arena_user_973</td>\n",
       "      <td>[{'content': 'Why did my parent not invite me ...</td>\n",
       "      <td>[{'content': 'Why did my parent not invite me ...</td>\n",
       "      <td>Why did my parent not invite me to their wedding?</td>\n",
       "      <td>49</td>\n",
       "      <td>It is possible that your parent did not invite...</td>\n",
       "      <td>...</td>\n",
       "      <td>[{'finish_reason': 'stop', 'index': 0, 'logpro...</td>\n",
       "      <td>Reasoning, Emotion</td>\n",
       "      <td>This prompt requires the AI to understand huma...</td>\n",
       "      <td>9.0</td>\n",
       "      <td>Reasoning, Emotional</td>\n",
       "      <td>This prompt challenges the AI to infer motives...</td>\n",
       "      <td>8.0</td>\n",
       "      <td>Reasoning, Emotional</td>\n",
       "      <td>This prompt challenges the AI to infer motives...</td>\n",
       "      <td>8.0</td>\n",
       "    </tr>\n",
       "    <tr>\n",
       "      <th>2</th>\n",
       "      <td>90bfd142157948aba01931726c888e7f</td>\n",
       "      <td>koala-13b</td>\n",
       "      <td>oasst-pythia-12b</td>\n",
       "      <td>model_b</td>\n",
       "      <td>arena_user_973</td>\n",
       "      <td>[{'content': 'Fuji vs. Nikon, which is better?...</td>\n",
       "      <td>[{'content': 'Fuji vs. Nikon, which is better?...</td>\n",
       "      <td>Fuji vs. Nikon, which is better?</td>\n",
       "      <td>32</td>\n",
       "      <td>Both Fuji and Nikon are popular camera brands ...</td>\n",
       "      <td>...</td>\n",
       "      <td>[{'finish_reason': 'stop', 'index': 0, 'logpro...</td>\n",
       "      <td>Camera comparison</td>\n",
       "      <td>This prompt does not require problem-solving s...</td>\n",
       "      <td>2.0</td>\n",
       "      <td>Photography comparison</td>\n",
       "      <td>This prompt is subjective and does not provide...</td>\n",
       "      <td>2.0</td>\n",
       "      <td>Photography comparison</td>\n",
       "      <td>This prompt is subjective and does not provide...</td>\n",
       "      <td>2.0</td>\n",
       "    </tr>\n",
       "    <tr>\n",
       "      <th>3</th>\n",
       "      <td>a7c5accc53e649a3bc6b2e41d962ebc4</td>\n",
       "      <td>vicuna-13b</td>\n",
       "      <td>oasst-pythia-12b</td>\n",
       "      <td>model_b</td>\n",
       "      <td>arena_user_973</td>\n",
       "      <td>[{'content': 'How to build an arena for chatbo...</td>\n",
       "      <td>[{'content': 'How to build an arena for chatbo...</td>\n",
       "      <td>How to build an arena for chatbots?</td>\n",
       "      <td>35</td>\n",
       "      <td>Building an arena for chatbots can be done by ...</td>\n",
       "      <td>...</td>\n",
       "      <td>[{'finish_reason': 'stop', 'index': 0, 'logpro...</td>\n",
       "      <td>Chatbot Arena</td>\n",
       "      <td>This prompt requires problem-solving skills an...</td>\n",
       "      <td>8.0</td>\n",
       "      <td>Chatbot Arena</td>\n",
       "      <td>This prompt requires problem-solving skills an...</td>\n",
       "      <td>8.0</td>\n",
       "      <td>Chatbot Arena</td>\n",
       "      <td>This prompt requires problem-solving skills an...</td>\n",
       "      <td>8.0</td>\n",
       "    </tr>\n",
       "    <tr>\n",
       "      <th>4</th>\n",
       "      <td>adf27e819a3c494cb6e993f0c660e097</td>\n",
       "      <td>vicuna-13b</td>\n",
       "      <td>koala-13b</td>\n",
       "      <td>model_a</td>\n",
       "      <td>arena_user_973</td>\n",
       "      <td>[{'content': 'When is it today?', 'role': 'use...</td>\n",
       "      <td>[{'content': 'When is it today?', 'role': 'use...</td>\n",
       "      <td>When is it today?</td>\n",
       "      <td>17</td>\n",
       "      <td>I'm sorry, I cannot determine the current date...</td>\n",
       "      <td>...</td>\n",
       "      <td>[{'finish_reason': 'stop', 'index': 0, 'logpro...</td>\n",
       "      <td>Time Query</td>\n",
       "      <td>This prompt is very straightforward and does n...</td>\n",
       "      <td>2.0</td>\n",
       "      <td>Time-based Inquiry</td>\n",
       "      <td>This prompt is too straightforward and simply ...</td>\n",
       "      <td>2.0</td>\n",
       "      <td>Time-based Inquiry</td>\n",
       "      <td>This prompt is too straightforward and simply ...</td>\n",
       "      <td>2.0</td>\n",
       "    </tr>\n",
       "  </tbody>\n",
       "</table>\n",
       "<p>5 rows × 28 columns</p>\n",
       "</div>"
      ],
      "text/plain": [
       "                        question_id           model_a           model_b  \\\n",
       "0  58210e39b3fd4441a2bd4a518bb44c2d        chatglm-6b         koala-13b   \n",
       "1  2564acd09e3942fd97657d05282d4389  oasst-pythia-12b        alpaca-13b   \n",
       "2  90bfd142157948aba01931726c888e7f         koala-13b  oasst-pythia-12b   \n",
       "3  a7c5accc53e649a3bc6b2e41d962ebc4        vicuna-13b  oasst-pythia-12b   \n",
       "4  adf27e819a3c494cb6e993f0c660e097        vicuna-13b         koala-13b   \n",
       "\n",
       "    winner           judge                                     conversation_a  \\\n",
       "0  model_b  arena_user_973  [{'content': 'What is the difference between O...   \n",
       "1      tie  arena_user_973  [{'content': 'Why did my parent not invite me ...   \n",
       "2  model_b  arena_user_973  [{'content': 'Fuji vs. Nikon, which is better?...   \n",
       "3  model_b  arena_user_973  [{'content': 'How to build an arena for chatbo...   \n",
       "4  model_a  arena_user_973  [{'content': 'When is it today?', 'role': 'use...   \n",
       "\n",
       "                                      conversation_b  \\\n",
       "0  [{'content': 'What is the difference between O...   \n",
       "1  [{'content': 'Why did my parent not invite me ...   \n",
       "2  [{'content': 'Fuji vs. Nikon, which is better?...   \n",
       "3  [{'content': 'How to build an arena for chatbo...   \n",
       "4  [{'content': 'When is it today?', 'role': 'use...   \n",
       "\n",
       "                                            prompt_x  prompt_length  \\\n",
       "0    What is the difference between OpenCL and CUDA?             47   \n",
       "1  Why did my parent not invite me to their wedding?             49   \n",
       "2                   Fuji vs. Nikon, which is better?             32   \n",
       "3                How to build an arena for chatbots?             35   \n",
       "4                                  When is it today?             17   \n",
       "\n",
       "                                          response_a  ...  \\\n",
       "0  OpenCL and CUDA are two different programming ...  ...   \n",
       "1  It is possible that your parent did not invite...  ...   \n",
       "2  Both Fuji and Nikon are popular camera brands ...  ...   \n",
       "3  Building an arena for chatbots can be done by ...  ...   \n",
       "4  I'm sorry, I cannot determine the current date...  ...   \n",
       "\n",
       "                    openai_scores_raw_choices_nested      topic_modeling_1  \\\n",
       "0  [{'finish_reason': 'stop', 'index': 0, 'logpro...  Technical Comparison   \n",
       "1  [{'finish_reason': 'stop', 'index': 0, 'logpro...    Reasoning, Emotion   \n",
       "2  [{'finish_reason': 'stop', 'index': 0, 'logpro...     Camera comparison   \n",
       "3  [{'finish_reason': 'stop', 'index': 0, 'logpro...         Chatbot Arena   \n",
       "4  [{'finish_reason': 'stop', 'index': 0, 'logpro...            Time Query   \n",
       "\n",
       "                                      score_reason_1 score_value_1  \\\n",
       "0  This prompt requires the AI to accurately comp...           9.0   \n",
       "1  This prompt requires the AI to understand huma...           9.0   \n",
       "2  This prompt does not require problem-solving s...           2.0   \n",
       "3  This prompt requires problem-solving skills an...           8.0   \n",
       "4  This prompt is very straightforward and does n...           2.0   \n",
       "\n",
       "         topic_modeling_2                                     score_reason_2  \\\n",
       "0  Comparison, Technology  This prompt requires the AI to demonstrate kno...   \n",
       "1    Reasoning, Emotional  This prompt challenges the AI to infer motives...   \n",
       "2  Photography comparison  This prompt is subjective and does not provide...   \n",
       "3           Chatbot Arena  This prompt requires problem-solving skills an...   \n",
       "4      Time-based Inquiry  This prompt is too straightforward and simply ...   \n",
       "\n",
       "   score_value_2        topic_modeling_3  \\\n",
       "0            9.0  Comparison, Technology   \n",
       "1            8.0    Reasoning, Emotional   \n",
       "2            2.0  Photography comparison   \n",
       "3            8.0           Chatbot Arena   \n",
       "4            2.0      Time-based Inquiry   \n",
       "\n",
       "                                      score_reason_3 score_value_3  \n",
       "0  This prompt requires the AI to demonstrate kno...           9.0  \n",
       "1  This prompt challenges the AI to infer motives...           8.0  \n",
       "2  This prompt is subjective and does not provide...           2.0  \n",
       "3  This prompt requires problem-solving skills an...           8.0  \n",
       "4  This prompt is too straightforward and simply ...           2.0  \n",
       "\n",
       "[5 rows x 28 columns]"
      ]
     },
     "execution_count": 84,
     "metadata": {},
     "output_type": "execute_result"
    }
   ],
   "source": [
    "df_merge.head()"
   ]
  },
  {
   "cell_type": "code",
   "execution_count": 85,
   "id": "ce766270",
   "metadata": {},
   "outputs": [],
   "source": [
    "df_merge.drop(columns = [\"judge\", \"conversation_a\", \"conversation_b\", \n",
    "                         \"model_a_response\", \"model_b_response\", \"model_a_response_length\",\n",
    "                         \"model_b_response_length\"], inplace = True)"
   ]
  },
  {
   "cell_type": "markdown",
   "id": "e261d453",
   "metadata": {},
   "source": []
  },
  {
   "cell_type": "code",
   "execution_count": 86,
   "id": "f66f63b9",
   "metadata": {},
   "outputs": [],
   "source": [
    "df_merge.drop(columns = \"openai_scores_raw_choices_nested\", inplace = True)"
   ]
  },
  {
   "cell_type": "code",
   "execution_count": 87,
   "id": "744c9da4",
   "metadata": {},
   "outputs": [],
   "source": [
    "assert df_merge[\"prompt_x\"].equals(df_merge[\"prompt_y\"]), \"not equal\""
   ]
  },
  {
   "cell_type": "code",
   "execution_count": 88,
   "id": "ba724c1d",
   "metadata": {},
   "outputs": [],
   "source": [
    "df_merge.drop(columns = \"prompt_y\", inplace = True)"
   ]
  },
  {
   "cell_type": "code",
   "execution_count": 89,
   "id": "8b85e0db",
   "metadata": {},
   "outputs": [],
   "source": [
    "df_merge.drop(list(df_merge[df_merge[\"score_value_3\"].isnull() == True].index), inplace = True)"
   ]
  },
  {
   "cell_type": "code",
   "execution_count": 90,
   "id": "de2049a6",
   "metadata": {},
   "outputs": [],
   "source": [
    "df_merge.rename({\"prompt_x\" : \"prompt\"}, inplace = True)"
   ]
  },
  {
   "cell_type": "code",
   "execution_count": 91,
   "id": "9b1f8453",
   "metadata": {},
   "outputs": [],
   "source": [
    "df_merge[\"avg_score\"] = (df_merge[\"score_value_1\"] + df_merge[\"score_value_2\"] + df_merge[\"score_value_3\"]) / 3"
   ]
  },
  {
   "cell_type": "code",
   "execution_count": 92,
   "id": "731b58c3",
   "metadata": {},
   "outputs": [
    {
     "data": {
      "text/plain": [
       "question_id          0\n",
       "model_a              0\n",
       "model_b              0\n",
       "winner               0\n",
       "prompt_x             0\n",
       "prompt_length        0\n",
       "response_a           0\n",
       "response_length_a    0\n",
       "response_b           0\n",
       "response_length_b    0\n",
       "topic_modeling_1     0\n",
       "score_reason_1       0\n",
       "score_value_1        0\n",
       "topic_modeling_2     0\n",
       "score_reason_2       0\n",
       "score_value_2        0\n",
       "topic_modeling_3     0\n",
       "score_reason_3       0\n",
       "score_value_3        0\n",
       "avg_score            0\n",
       "dtype: int64"
      ]
     },
     "execution_count": 92,
     "metadata": {},
     "output_type": "execute_result"
    }
   ],
   "source": [
    "df_merge.isnull().sum()"
   ]
  },
  {
   "cell_type": "code",
   "execution_count": 93,
   "id": "20da77e9",
   "metadata": {},
   "outputs": [],
   "source": [
    "# Filter the data to only include winning models.\n",
    "\n",
    "# Create a new dataframe only which contains winning models\n",
    "df_win = df_merge[df_merge[\"winner\"].isin([\"model_a\", \"model_b\"])].copy()\n",
    "\n",
    "# Create a new column with the name of the winning model\n",
    "df_win[\"winning_model\"] = df_win.apply(lambda x: x[\"model_a\"] if x[\"winner\"] == \"model_a\" else x[\"model_b\"], axis = 1)"
   ]
  },
  {
   "cell_type": "code",
   "execution_count": 94,
   "id": "f09c67ab",
   "metadata": {},
   "outputs": [],
   "source": [
    "# Create a new column with bins and labels for the hardness score\n",
    "bins = [0, 2, 4, 6, 8, 10]  # Adjust based on your data\n",
    "labels = ['Very Easy', 'Easy', 'Medium', 'Hard', 'Very Hard']\n",
    "\n",
    "# Add a new column with the hardness score categorized into bins\n",
    "df_win[\"hard_cat\"] = pd.cut(df_win[\"avg_score\"], bins=bins, labels=labels)"
   ]
  },
  {
   "cell_type": "code",
   "execution_count": 95,
   "id": "caac426f",
   "metadata": {},
   "outputs": [
    {
     "data": {
      "text/html": [
       "<div>\n",
       "<style scoped>\n",
       "    .dataframe tbody tr th:only-of-type {\n",
       "        vertical-align: middle;\n",
       "    }\n",
       "\n",
       "    .dataframe tbody tr th {\n",
       "        vertical-align: top;\n",
       "    }\n",
       "\n",
       "    .dataframe thead th {\n",
       "        text-align: right;\n",
       "    }\n",
       "</style>\n",
       "<table border=\"1\" class=\"dataframe\">\n",
       "  <thead>\n",
       "    <tr style=\"text-align: right;\">\n",
       "      <th></th>\n",
       "      <th>winning_model</th>\n",
       "      <th>hard_cat</th>\n",
       "      <th>win_count</th>\n",
       "    </tr>\n",
       "  </thead>\n",
       "  <tbody>\n",
       "    <tr>\n",
       "      <th>0</th>\n",
       "      <td>RWKV-4-Raven-14B</td>\n",
       "      <td>Very Easy</td>\n",
       "      <td>48</td>\n",
       "    </tr>\n",
       "    <tr>\n",
       "      <th>1</th>\n",
       "      <td>RWKV-4-Raven-14B</td>\n",
       "      <td>Easy</td>\n",
       "      <td>23</td>\n",
       "    </tr>\n",
       "    <tr>\n",
       "      <th>2</th>\n",
       "      <td>RWKV-4-Raven-14B</td>\n",
       "      <td>Medium</td>\n",
       "      <td>33</td>\n",
       "    </tr>\n",
       "    <tr>\n",
       "      <th>3</th>\n",
       "      <td>RWKV-4-Raven-14B</td>\n",
       "      <td>Hard</td>\n",
       "      <td>411</td>\n",
       "    </tr>\n",
       "    <tr>\n",
       "      <th>4</th>\n",
       "      <td>RWKV-4-Raven-14B</td>\n",
       "      <td>Very Hard</td>\n",
       "      <td>138</td>\n",
       "    </tr>\n",
       "    <tr>\n",
       "      <th>...</th>\n",
       "      <td>...</td>\n",
       "      <td>...</td>\n",
       "      <td>...</td>\n",
       "    </tr>\n",
       "    <tr>\n",
       "      <th>95</th>\n",
       "      <td>wizardlm-13b</td>\n",
       "      <td>Very Easy</td>\n",
       "      <td>18</td>\n",
       "    </tr>\n",
       "    <tr>\n",
       "      <th>96</th>\n",
       "      <td>wizardlm-13b</td>\n",
       "      <td>Easy</td>\n",
       "      <td>7</td>\n",
       "    </tr>\n",
       "    <tr>\n",
       "      <th>97</th>\n",
       "      <td>wizardlm-13b</td>\n",
       "      <td>Medium</td>\n",
       "      <td>18</td>\n",
       "    </tr>\n",
       "    <tr>\n",
       "      <th>98</th>\n",
       "      <td>wizardlm-13b</td>\n",
       "      <td>Hard</td>\n",
       "      <td>216</td>\n",
       "    </tr>\n",
       "    <tr>\n",
       "      <th>99</th>\n",
       "      <td>wizardlm-13b</td>\n",
       "      <td>Very Hard</td>\n",
       "      <td>48</td>\n",
       "    </tr>\n",
       "  </tbody>\n",
       "</table>\n",
       "<p>100 rows × 3 columns</p>\n",
       "</div>"
      ],
      "text/plain": [
       "       winning_model   hard_cat  win_count\n",
       "0   RWKV-4-Raven-14B  Very Easy         48\n",
       "1   RWKV-4-Raven-14B       Easy         23\n",
       "2   RWKV-4-Raven-14B     Medium         33\n",
       "3   RWKV-4-Raven-14B       Hard        411\n",
       "4   RWKV-4-Raven-14B  Very Hard        138\n",
       "..               ...        ...        ...\n",
       "95      wizardlm-13b  Very Easy         18\n",
       "96      wizardlm-13b       Easy          7\n",
       "97      wizardlm-13b     Medium         18\n",
       "98      wizardlm-13b       Hard        216\n",
       "99      wizardlm-13b  Very Hard         48\n",
       "\n",
       "[100 rows x 3 columns]"
      ]
     },
     "execution_count": 95,
     "metadata": {},
     "output_type": "execute_result"
    }
   ],
   "source": [
    "# Count the wins for each model in each hardness category\n",
    "win_count = df_win.groupby([\"winning_model\", \"hard_cat\"]).size().reset_index(name = \"win_count\")\n",
    "win_count"
   ]
  },
  {
   "cell_type": "code",
   "execution_count": 96,
   "id": "6f76fa64",
   "metadata": {},
   "outputs": [
    {
     "name": "stdout",
     "output_type": "stream",
     "text": [
      "       winning_model   hard_cat  win_count  match_count  win_ratio\n",
      "0   RWKV-4-Raven-14B  Very Easy         48           96   0.500000\n",
      "1   RWKV-4-Raven-14B       Easy         23           74   0.310811\n",
      "2   RWKV-4-Raven-14B     Medium         33          103   0.320388\n",
      "3   RWKV-4-Raven-14B       Hard        411         1257   0.326969\n",
      "4   RWKV-4-Raven-14B  Very Hard        138          396   0.348485\n",
      "..               ...        ...        ...          ...        ...\n",
      "95      wizardlm-13b  Very Easy         18           35   0.514286\n",
      "96      wizardlm-13b       Easy          7           18   0.388889\n",
      "97      wizardlm-13b     Medium         18           34   0.529412\n",
      "98      wizardlm-13b       Hard        216          386   0.559585\n",
      "99      wizardlm-13b  Very Hard         48           98   0.489796\n",
      "\n",
      "[100 rows x 5 columns]\n"
     ]
    }
   ],
   "source": [
    "# Concatenate match counts for model_a and model_b into a single DataFrame\n",
    "model_a_match_count = df_win.groupby([\"model_a\", \"hard_cat\"]).size().reset_index(name=\"match_count\")\n",
    "model_b_match_count = df_win.groupby([\"model_b\", \"hard_cat\"]).size().reset_index(name=\"match_count\")\n",
    "\n",
    "# Rename columns for consistency\n",
    "model_a_match_count.rename(columns={\"model_a\": \"model\"}, inplace=True)\n",
    "model_b_match_count.rename(columns={\"model_b\": \"model\"}, inplace=True)\n",
    "\n",
    "# Concatenate match counts for both model_a and model_b\n",
    "total_match_count = pd.concat([model_a_match_count, model_b_match_count])\n",
    "\n",
    "# Aggregate total match counts by model and hardness category\n",
    "total_match_count = total_match_count.groupby([\"model\", \"hard_cat\"]).sum().reset_index()\n",
    "\n",
    "# Merge the total match counts with the win counts on 'winning_model' and 'hard_cat'\n",
    "df_win_tot = pd.merge(win_count, total_match_count, \n",
    "                      left_on=[\"winning_model\", \"hard_cat\"], \n",
    "                      right_on=[\"model\", \"hard_cat\"], \n",
    "                      how=\"inner\")\n",
    "\n",
    "# Compute the win ratio for each model in each hardness category\n",
    "df_win_tot[\"win_ratio\"] = df_win_tot[\"win_count\"] / df_win_tot[\"match_count\"]\n",
    "\n",
    "# Drop the redundant 'model' column from the final DataFrame\n",
    "df_win_tot = df_win_tot.drop(columns=[\"model\"])\n",
    "\n",
    "# Display the result\n",
    "print(df_win_tot)"
   ]
  },
  {
   "cell_type": "code",
   "execution_count": 97,
   "id": "f2258667",
   "metadata": {},
   "outputs": [
    {
     "data": {
      "image/png": "[encoded data removed]",
      "text/plain": [
       "<Figure size 1000x600 with 1 Axes>"
      ]
     },
     "metadata": {},
     "output_type": "display_data"
    }
   ],
   "source": [
    "# Plot the results for the top five models\n",
    "df_cat_top_five = df_win_tot[df_win_tot[\"winning_model\"].isin(top_five)]\n",
    "\n",
    "# Plot the win ratio for the top five models\n",
    "plt.figure(figsize=(10, 6))\n",
    "sns.barplot(data = df_cat_top_five, x='hard_cat', y='win_ratio', hue='winning_model')\n",
    "\n",
    "# Add labels and title\n",
    "plt.title('Win Ratio of Top 5 Models Across Hardness Categories')\n",
    "plt.xlabel('Hardness Category')\n",
    "plt.ylabel('Win Ratio')\n",
    "plt.show();"
   ]
  },
  {
   "cell_type": "code",
   "execution_count": 98,
   "id": "27ab2c15",
   "metadata": {},
   "outputs": [
    {
     "data": {
      "text/plain": [
       "['gpt-4', 'vicuna-13b', 'gpt-3.5-turbo', 'claude-v1', 'koala-13b']"
      ]
     },
     "execution_count": 98,
     "metadata": {},
     "output_type": "execute_result"
    }
   ],
   "source": [
    "top_five"
   ]
  },
  {
   "cell_type": "code",
   "execution_count": 99,
   "id": "2ee5bdd0",
   "metadata": {},
   "outputs": [
    {
     "data": {
      "text/plain": [
       "topic_modeling_1\n",
       "Creative Writing                     568\n",
       "Factual Accuracy                     510\n",
       "Problem-solving, Creativity          398\n",
       "Factual Knowledge                    300\n",
       "Problem Solving                      284\n",
       "Math Problem                         209\n",
       "Information Retrieval                188\n",
       "Problem-solving, Factual accuracy    176\n",
       "Creativity, Humor                    164\n",
       "Problem-Solving, Creativity          144\n",
       "Name: count, dtype: int64"
      ]
     },
     "execution_count": 99,
     "metadata": {},
     "output_type": "execute_result"
    }
   ],
   "source": [
    "df_merge[\"topic_modeling_1\"].value_counts().head(10)"
   ]
  },
  {
   "cell_type": "code",
   "execution_count": 100,
   "id": "9b0537a7",
   "metadata": {},
   "outputs": [
    {
     "data": {
      "text/plain": [
       "topic_modeling_2\n",
       "Creative Writing                     598\n",
       "Factual Accuracy                     487\n",
       "Problem-solving, Creativity          407\n",
       "Factual Knowledge                    314\n",
       "Problem Solving                      290\n",
       "Math Problem                         206\n",
       "Information Retrieval                197\n",
       "Problem-solving, Factual accuracy    175\n",
       "Problem-Solving, Creativity          158\n",
       "Creativity, Humor                    145\n",
       "Name: count, dtype: int64"
      ]
     },
     "execution_count": 100,
     "metadata": {},
     "output_type": "execute_result"
    }
   ],
   "source": [
    "df_merge[\"topic_modeling_2\"].value_counts().head(10)"
   ]
  },
  {
   "cell_type": "code",
   "execution_count": 101,
   "id": "346647ef",
   "metadata": {},
   "outputs": [
    {
     "data": {
      "text/plain": [
       "topic_modeling_3\n",
       "Creative Writing                     598\n",
       "Factual Accuracy                     487\n",
       "Problem-solving, Creativity          407\n",
       "Factual Knowledge                    314\n",
       "Problem Solving                      290\n",
       "Math Problem                         206\n",
       "Information Retrieval                197\n",
       "Problem-solving, Factual accuracy    175\n",
       "Problem-Solving, Creativity          158\n",
       "Creativity, Humor                    145\n",
       "Name: count, dtype: int64"
      ]
     },
     "execution_count": 101,
     "metadata": {},
     "output_type": "execute_result"
    }
   ],
   "source": [
    "df_merge[\"topic_modeling_3\"].value_counts().head(10)"
   ]
  },
  {
   "cell_type": "code",
   "execution_count": 102,
   "id": "d7ff6374",
   "metadata": {},
   "outputs": [
    {
     "data": {
      "text/html": [
       "<div>\n",
       "<style scoped>\n",
       "    .dataframe tbody tr th:only-of-type {\n",
       "        vertical-align: middle;\n",
       "    }\n",
       "\n",
       "    .dataframe tbody tr th {\n",
       "        vertical-align: top;\n",
       "    }\n",
       "\n",
       "    .dataframe thead th {\n",
       "        text-align: right;\n",
       "    }\n",
       "</style>\n",
       "<table border=\"1\" class=\"dataframe\">\n",
       "  <thead>\n",
       "    <tr style=\"text-align: right;\">\n",
       "      <th></th>\n",
       "      <th>topic_modeling_1</th>\n",
       "      <th>avg_score</th>\n",
       "    </tr>\n",
       "  </thead>\n",
       "  <tbody>\n",
       "    <tr>\n",
       "      <th>2046</th>\n",
       "      <td>Creative Writing</td>\n",
       "      <td>8.270540</td>\n",
       "    </tr>\n",
       "    <tr>\n",
       "      <th>2156</th>\n",
       "      <td>Creativity, Humor</td>\n",
       "      <td>7.867886</td>\n",
       "    </tr>\n",
       "    <tr>\n",
       "      <th>3565</th>\n",
       "      <td>Factual Accuracy</td>\n",
       "      <td>6.976471</td>\n",
       "    </tr>\n",
       "    <tr>\n",
       "      <th>3589</th>\n",
       "      <td>Factual Knowledge</td>\n",
       "      <td>6.060000</td>\n",
       "    </tr>\n",
       "    <tr>\n",
       "      <th>4952</th>\n",
       "      <td>Information Retrieval</td>\n",
       "      <td>5.666667</td>\n",
       "    </tr>\n",
       "    <tr>\n",
       "      <th>5899</th>\n",
       "      <td>Math Problem</td>\n",
       "      <td>6.068581</td>\n",
       "    </tr>\n",
       "    <tr>\n",
       "      <th>7742</th>\n",
       "      <td>Problem Solving</td>\n",
       "      <td>7.916667</td>\n",
       "    </tr>\n",
       "    <tr>\n",
       "      <th>7765</th>\n",
       "      <td>Problem-Solving, Creativity</td>\n",
       "      <td>8.046296</td>\n",
       "    </tr>\n",
       "    <tr>\n",
       "      <th>7849</th>\n",
       "      <td>Problem-solving, Creativity</td>\n",
       "      <td>7.909548</td>\n",
       "    </tr>\n",
       "    <tr>\n",
       "      <th>7878</th>\n",
       "      <td>Problem-solving, Factual accuracy</td>\n",
       "      <td>7.498106</td>\n",
       "    </tr>\n",
       "  </tbody>\n",
       "</table>\n",
       "</div>"
      ],
      "text/plain": [
       "                       topic_modeling_1  avg_score\n",
       "2046                   Creative Writing   8.270540\n",
       "2156                  Creativity, Humor   7.867886\n",
       "3565                   Factual Accuracy   6.976471\n",
       "3589                  Factual Knowledge   6.060000\n",
       "4952              Information Retrieval   5.666667\n",
       "5899                       Math Problem   6.068581\n",
       "7742                    Problem Solving   7.916667\n",
       "7765        Problem-Solving, Creativity   8.046296\n",
       "7849        Problem-solving, Creativity   7.909548\n",
       "7878  Problem-solving, Factual accuracy   7.498106"
      ]
     },
     "execution_count": 102,
     "metadata": {},
     "output_type": "execute_result"
    }
   ],
   "source": [
    "# Create a datframe grouping topics with their average hardness score\n",
    "df_topics = df_merge.groupby([\"topic_modeling_1\"])[\"avg_score\"].mean().reset_index()\n",
    "\n",
    "# Filter to include the top ten topics.\n",
    "df_topics[df_topics[\"topic_modeling_1\"].isin(list(df_merge[\"topic_modeling_1\"].value_counts().head(10).index))]"
   ]
  },
  {
   "cell_type": "markdown",
   "id": "00499231",
   "metadata": {},
   "source": [
    "### Observations\n",
    "\n",
    "- How does the hardness score compare with the results from the top five models from the main data set?\n",
    "\n",
    "The above plot of \"Win Ratio of Top 5 Models Across Hardness Categories\" shows the correlation between the number of times a model won a competition based on the average hardness score. The hardness categories are bins that represent the average hardness score from the 'topic_and_hardness' dataframe. The bins are structured to contain ranges of values, for example, \"Very Easy\" is zero to two, \"Easy\" two to four, and so on. \n",
    "\n",
    "From the above plot of we can see that 'gpt-4' outperformed all other models for every category of hardness, except for \"Very Easy\" questions, where 'claude-v1' was the highest performing model. Interestingly, these results would infer that the order of the top five models would be different than that obtained solely based on win count. The plot shows that 'claude-v1' consistently performed better than 'vicuna-13b' even though 'vicuna-13b' took second in rankings based on win count, and 'claude-v1' was fourth. \n",
    "\n",
    "Based on this plot, I would maintain 'gpt-4' as the best performing model, but I would switch the order of 'claude-v1' and 'vicuna-13b' due to the reason discussed above. The rest of the ordering remains the same.\n",
    "\n",
    "- What are the most common topics?\n",
    "\n",
    "By taking the value counts of the \"topic_modeling\" data we can obtain a list of the most common topics in descending order. The top three topics based on this output are: creative writing, factual accuracy, and problem-solving/creativity. Creative writing is the most common with about 600 instances of the topic, which is almost 100 more instances than factual accuracy, and about 200 more instances than problem-solving/creativity. \n",
    "\n",
    "- What is the hardness score of the most common topics.\n",
    "\n",
    "Based on the above dataframe of topics grouped by the mean of the average hardness score, for the top three topics mentioned above the average hardness score is: 8.2, 7.8, and 6.9 respectively.\n",
    "\n"
   ]
  },
  {
   "cell_type": "markdown",
   "id": "bbc3be19-44db-4816-b8eb-96e26eb176fc",
   "metadata": {},
   "source": [
    "## Summary and Next Steps\n",
    "\n",
    "You've now explored various aspects of the dataset, including prompt lengths, response lengths, and embeddings, as well as handling messy data. As you proceed, it's important to remember the key **EDA requirements** for this milestone:\n",
    "\n",
    "1. **Ranking of the model based on their win rate or ELO ratings**\n",
    "2. **Distribution of the prompt and response length** \n",
    "4. **Hardness score distribution and its correlation with the models** \n",
    "5. **Open-ended: Visualize the \"variance\" in model performance**\n",
    "6. **Open-ended: Explore the prompt topics in the dataset (topic modeling)**\n",
    "\n",
    "### What Have You Discovered?\n",
    "\n",
    "Now that you've completed the initial exploration through this notebook, think about the following:\n",
    "\n",
    "- **Which insights surprised you?**  \n",
    "- **What further questions would you ask based on the patterns you've seen?**  \n",
    "- **Which analyses are still missing or could be extended?**\n",
    "\n",
    "This notebook provides a foundation for your EDA, but the real insights will come from the questions you ask and the deeper analyses you conduct. Use this notebook as a starting point to explore relationships in the data that will help inform your understanding of chatbot performance. By formulating and answering your questions as a team, you'll gain a richer understanding of the dataset and get ready for the modeling tasks."
   ]
  }
 ],
 "metadata": {
  "kernelspec": {
   "display_name": "msse-python",
   "language": "python",
   "name": "python3"
  },
  "language_info": {
   "codemirror_mode": {
    "name": "ipython",
    "version": 3
   },
   "file_extension": ".py",
   "mimetype": "text/x-python",
   "name": "python",
   "nbconvert_exporter": "python",
   "pygments_lexer": "ipython3",
   "version": "3.11.9"
  }
 },
 "nbformat": 4,
 "nbformat_minor": 5
}
